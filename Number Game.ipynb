{
 "metadata": {
  "name": ""
 },
 "nbformat": 3,
 "nbformat_minor": 0,
 "worksheets": [
  {
   "cells": [
    {
     "cell_type": "markdown",
     "metadata": {},
     "source": [
      "#A Complete Git (the stupid content tracker) Introductory Tutorial\n",
      "\n",
      "For [LinuxPack@Daii-ct](https://lpdaiict.wordpress.com/ \"lp@daiict blog\")\n",
      "\n",
      "###Authors\n",
      "\n",
      "- [Abhishek Gupta](knoxxs.github.io)\n",
      "- [Aditya Basu](http://www.adityabasu.me/)\n",
      "\n",
      "This work is licensed under a [GNU General Public License, version 2](http://www.gnu.org/licenses/gpl-2.0.html \"GPLv2 License\")\n",
      "\n",
      "###Pre-requisite\n",
      "\n",
      "This tutorial assumes that you already knwo basic git concepts. In case you don't follow [Git-Basics](http://lpdaiict.wordpress.com/2013/12/31/git-part-i/ \"lp@daiict Git Basics Tutorial\").\n",
      "\n",
      "###Contents\n",
      "\n",
      "It is a practical git tutorial which introduces various git concepts using a (simple) real world example. In this tutorial we will be developing a **Number Guess Game**. It is different from other git tutorials in the way that it just not introduces a concept but also a real use case for that concept and a complete working demo example for the usecase.\n",
      "\n",
      "In this following git concepts are covered:\n",
      "\n",
      "1. Initializing git repository: `git init`\n",
      "2. Doing First Commit\n",
      "3. Introducing `.gitignore`\n",
      "4. Working With Multiple Branches\n",
      "    1. Making New Branches\n",
      "    2. Merging\n",
      "    3. Tagging\n",
      "    4. Adding a Bug/Feature\n",
      "        1. Feature1: Pretty Interface\n",
      "        2. Feature2: Randomising the Number to Guess\n",
      "    5. Diff Branch\n",
      "    6. Merging Multiple Branches\n",
      "        1. Merging feature-rand_num_guess\n",
      "        2. Merging feature-pretty_interface\n",
      "    7. Adding Feature3: Adding Game Instructions\n",
      "        1. Creating New Branch Form a Previous Commit\n",
      "        2. Adding Instructions\n",
      "        3. Merging feature-instructions\n",
      "        4. Handling Conflicting Merges\n",
      "            1. Understanding The Conflict\n",
      "            2. Resolving the Conflict\n",
      "5. Going Remote\n",
      "    1. Clonning a Repo\n",
      "    2. Adding Feature4: Adding Play Again Functionality\n",
      "        1. Merging feature-play_again\n",
      "    3. Pushing Code to Remote\n",
      "    4. Creating a Bare Repo\n",
      "    5. Pushing Code to a Bare Repo\n",
      "    6. Pulling Changes From a Remote (Bare Repo)\n",
      "6. Going Public\n",
      "    1. Public vs Remote\n",
      "    2. Creating a Repo (@Github)\n",
      "    3. Adding Remote for Public\n",
      "    4. Pushing Changes\n",
      "7. Issue Tracker\n",
      "    1. Solving Bug1: Integer Random Number\n",
      "        1. Creating Issue\n",
      "        2. Solving the Bug\n",
      "        3. Pushing Changes (with Solved Bug)\n",
      "        4. Closing the Issue\n",
      "8. Contributing to Open Source Development\n",
      "    1. Solving Bug2: Should not Crash on Non-Integer Input\n",
      "        1. Forking the Original Repo\n",
      "        2. Creating Issue\n",
      "        3. Clonning the Forked Repo\n",
      "        4. Solving the Bug\n",
      "        5. Pushing Changes (via Pull Request)\n",
      "             1. Sending Pull Request\n",
      "             2. Accepting Pull Request\n",
      "        6. Closing the Issue\n",
      "9. Contributing to Open Source Development - The Old Way\n",
      "    1. Adding Feature5: Validating Exit Input\n",
      "        1. Creating Issue\n",
      "        2. Clonning the Repo\n",
      "        3. Adding the Feature5\n",
      "        4. Creating the Patch\n",
      "        5. Sending the Patch\n",
      "        6. Applying the Patch\n",
      "        7. Closing Issue\n",
      "10. A Tip\n",
      "\n",
      "There are many questions asked in between. Try to answer those to undersatand the working of git.For some questions answers are not given, mainly due to the obviousness of the answer. If you are still not able to understand then follow the man page for question topic.\n",
      "\n",
      "###Contribute/Improve\n",
      "\n",
      "If you want to contribute to this tutorial or want to improve/modify it you can get the source from its [Github Repo](https://github.com/mitthu/num_game \"numGame Github Repository\").\n",
      "\n",
      "###Further Resources\n",
      "- [When to Commit](http://www.databasically.com/2011/03/14/git-commit-early-commit-often/)\n",
      "- [Different Workflows](https://www.atlassian.com/git/workflows)\n",
      "- [Proper Commit Message](http://robots.thoughtbot.com/5-useful-tips-for-a-better-commit-message)\n",
      "- [Every Line is Doccumented](http://mislav.uniqpath.com/2014/02/hidden-documentation/)\n",
      "\n",
      "###References\n",
      "\n",
      "- [man pages](http://man7.org/linux/man-pages/man1/git.1.html \"git man page\")\n",
      "- [ProGit Book](http://git-scm.com/book/ \"Complete ProGit Book Online\")\n",
      "- [How versioning works](http://semver.org/ \"Semantic Versioning\")"
     ]
    },
    {
     "cell_type": "markdown",
     "metadata": {},
     "source": [
      "***"
     ]
    },
    {
     "cell_type": "markdown",
     "metadata": {},
     "source": [
      "#Git Init\n",
      "\n",
      "Make new a project directory."
     ]
    },
    {
     "cell_type": "code",
     "collapsed": false,
     "input": [
      "mkdir num_game"
     ],
     "language": "python",
     "metadata": {},
     "outputs": [],
     "prompt_number": 1
    },
    {
     "cell_type": "code",
     "collapsed": false,
     "input": [
      "cd num_game/"
     ],
     "language": "python",
     "metadata": {},
     "outputs": [
      {
       "output_type": "stream",
       "stream": "stdout",
       "text": [
        "/home/me/Projects/numGame/num_game\n"
       ]
      }
     ],
     "prompt_number": 2
    },
    {
     "cell_type": "markdown",
     "metadata": {},
     "source": [
      "Initialize it to be a git repo. What this will do?"
     ]
    },
    {
     "cell_type": "code",
     "collapsed": false,
     "input": [
      "! git init"
     ],
     "language": "python",
     "metadata": {},
     "outputs": [
      {
       "output_type": "stream",
       "stream": "stdout",
       "text": [
        "Initialized empty Git repository in /home/me/Projects/numGame/num_game/.git/\r\n"
       ]
      }
     ],
     "prompt_number": 3
    },
    {
     "cell_type": "code",
     "collapsed": false,
     "input": [
      "! ls && pwd"
     ],
     "language": "python",
     "metadata": {},
     "outputs": [
      {
       "output_type": "stream",
       "stream": "stdout",
       "text": [
        "/home/me/Projects/numGame/num_game\r\n"
       ]
      }
     ],
     "prompt_number": 4
    },
    {
     "cell_type": "code",
     "collapsed": false,
     "input": [
      "! git status"
     ],
     "language": "python",
     "metadata": {},
     "outputs": [
      {
       "output_type": "stream",
       "stream": "stdout",
       "text": [
        "# On branch master\r\n",
        "#\r\n",
        "# Initial commit\r\n",
        "#\r\n",
        "nothing to commit (create/copy files and use \"git add\" to track)\r\n"
       ]
      }
     ],
     "prompt_number": 5
    },
    {
     "cell_type": "markdown",
     "metadata": {},
     "source": [
      "#First Commit\n",
      "\n",
      "Add a new file."
     ]
    },
    {
     "cell_type": "code",
     "collapsed": false,
     "input": [
      "! touch game.py && ls"
     ],
     "language": "python",
     "metadata": {},
     "outputs": [
      {
       "output_type": "stream",
       "stream": "stdout",
       "text": [
        "game.py\r\n"
       ]
      }
     ],
     "prompt_number": 6
    },
    {
     "cell_type": "code",
     "collapsed": false,
     "input": [
      "! git status"
     ],
     "language": "python",
     "metadata": {},
     "outputs": [
      {
       "output_type": "stream",
       "stream": "stdout",
       "text": [
        "# On branch master\r\n",
        "#\r\n",
        "# Initial commit\r\n",
        "#\r\n",
        "# Untracked files:\r\n",
        "#   (use \"git add <file>...\" to include in what will be committed)\r\n",
        "#\r\n",
        "#\tgame.py\r\n",
        "nothing added to commit but untracked files present (use \"git add\" to track)\r\n"
       ]
      }
     ],
     "prompt_number": 7
    },
    {
     "cell_type": "code",
     "collapsed": false,
     "input": [
      "! git add game.py"
     ],
     "language": "python",
     "metadata": {},
     "outputs": [],
     "prompt_number": 8
    },
    {
     "cell_type": "code",
     "collapsed": false,
     "input": [
      "! git status"
     ],
     "language": "python",
     "metadata": {},
     "outputs": [
      {
       "output_type": "stream",
       "stream": "stdout",
       "text": [
        "# On branch master\r\n",
        "#\r\n",
        "# Initial commit\r\n",
        "#\r\n",
        "# Changes to be committed:\r\n",
        "#   (use \"git rm --cached <file>...\" to unstage)\r\n",
        "#\r\n",
        "#\tnew file:   game.py\r\n",
        "#\r\n"
       ]
      }
     ],
     "prompt_number": 9
    },
    {
     "cell_type": "markdown",
     "metadata": {},
     "source": [
      "The file `game.py` is added to the staging area.\n",
      "\n",
      "Now, lets commit the file."
     ]
    },
    {
     "cell_type": "code",
     "collapsed": false,
     "input": [
      "! git commit -m \"Added the main game file.\""
     ],
     "language": "python",
     "metadata": {},
     "outputs": [
      {
       "output_type": "stream",
       "stream": "stdout",
       "text": [
        "[master (root-commit) 0c60086] Added the main game file.\r\n",
        " 1 file changed, 0 insertions(+), 0 deletions(-)\r\n",
        " create mode 100644 game.py\r\n"
       ]
      }
     ],
     "prompt_number": 10
    },
    {
     "cell_type": "markdown",
     "metadata": {},
     "source": [
      "Always give appropriate commit message."
     ]
    },
    {
     "cell_type": "code",
     "collapsed": false,
     "input": [
      "! git status"
     ],
     "language": "python",
     "metadata": {},
     "outputs": [
      {
       "output_type": "stream",
       "stream": "stdout",
       "text": [
        "# On branch master\r\n",
        "nothing to commit, working directory clean\r\n"
       ]
      }
     ],
     "prompt_number": 11
    },
    {
     "cell_type": "code",
     "collapsed": false,
     "input": [
      "! git log"
     ],
     "language": "python",
     "metadata": {},
     "outputs": [
      {
       "output_type": "stream",
       "stream": "stdout",
       "text": [
        "commit 0c60086b6b33639a5349cfc168719dba9f2e8260\r\n",
        "Author: Abhishek Gupta <abhi.bansal21@gmail.com>\r\n",
        "Date:   Mon Feb 17 17:22:21 2014 +0530\r\n",
        "\r\n",
        "    Added the main game file.\r\n"
       ]
      }
     ],
     "prompt_number": 12
    },
    {
     "cell_type": "markdown",
     "metadata": {},
     "source": [
      "#Introducing .gitignore\n",
      "\n",
      "Add some code to newly added file. Instead of directly adding code, add a new file and then import it."
     ]
    },
    {
     "cell_type": "code",
     "collapsed": false,
     "input": [
      "! echo 'def test():print \"Welcome to Git!\"' >hello.py"
     ],
     "language": "python",
     "metadata": {},
     "outputs": [],
     "prompt_number": 13
    },
    {
     "cell_type": "code",
     "collapsed": false,
     "input": [
      "! echo \"\\\n",
      "import hello\\n\\\n",
      "hello.test()\" >game.py "
     ],
     "language": "python",
     "metadata": {},
     "outputs": [],
     "prompt_number": 14
    },
    {
     "cell_type": "code",
     "collapsed": false,
     "input": [
      "ls"
     ],
     "language": "python",
     "metadata": {},
     "outputs": [
      {
       "output_type": "stream",
       "stream": "stdout",
       "text": [
        "game.py  hello.py\r\n"
       ]
      }
     ],
     "prompt_number": 15
    },
    {
     "cell_type": "markdown",
     "metadata": {},
     "source": [
      "Run the file to check if its working or not."
     ]
    },
    {
     "cell_type": "code",
     "collapsed": false,
     "input": [
      "! python game.py"
     ],
     "language": "python",
     "metadata": {},
     "outputs": [
      {
       "output_type": "stream",
       "stream": "stdout",
       "text": [
        "Welcome to Git!\r\n"
       ]
      }
     ],
     "prompt_number": 16
    },
    {
     "cell_type": "code",
     "collapsed": false,
     "input": [
      "! ls"
     ],
     "language": "python",
     "metadata": {},
     "outputs": [
      {
       "output_type": "stream",
       "stream": "stdout",
       "text": [
        "game.py  hello.py  hello.pyc\r\n"
       ]
      }
     ],
     "prompt_number": 17
    },
    {
     "cell_type": "markdown",
     "metadata": {},
     "source": [
      "Oh! The hedious `.pyc !!!` For those new to python, the python interpretor emits these files (`python compiled`) to speed up execution. These are equivalent to executable or binary files."
     ]
    },
    {
     "cell_type": "code",
     "collapsed": false,
     "input": [
      "! git status"
     ],
     "language": "python",
     "metadata": {},
     "outputs": [
      {
       "output_type": "stream",
       "stream": "stdout",
       "text": [
        "# On branch master\r\n",
        "# Changes not staged for commit:\r\n",
        "#   (use \"git add <file>...\" to update what will be committed)\r\n",
        "#   (use \"git checkout -- <file>...\" to discard changes in working directory)\r\n",
        "#\r\n",
        "#\tmodified:   game.py\r\n",
        "#\r\n",
        "# Untracked files:\r\n",
        "#   (use \"git add <file>...\" to include in what will be committed)\r\n",
        "#\r\n",
        "#\thello.py\r\n",
        "#\thello.pyc\r\n",
        "no changes added to commit (use \"git add\" and/or \"git commit -a\")\r\n"
       ]
      }
     ],
     "prompt_number": 18
    },
    {
     "cell_type": "markdown",
     "metadata": {},
     "source": [
      "But we don't want to track these type of files."
     ]
    },
    {
     "cell_type": "code",
     "collapsed": false,
     "input": [
      "! echo \"*.pyc\" >.gitignore"
     ],
     "language": "python",
     "metadata": {},
     "outputs": [],
     "prompt_number": 19
    },
    {
     "cell_type": "code",
     "collapsed": false,
     "input": [
      "! git status"
     ],
     "language": "python",
     "metadata": {},
     "outputs": [
      {
       "output_type": "stream",
       "stream": "stdout",
       "text": [
        "# On branch master\r\n",
        "# Changes not staged for commit:\r\n",
        "#   (use \"git add <file>...\" to update what will be committed)\r\n",
        "#   (use \"git checkout -- <file>...\" to discard changes in working directory)\r\n",
        "#\r\n",
        "#\tmodified:   game.py\r\n",
        "#\r\n",
        "# Untracked files:\r\n",
        "#   (use \"git add <file>...\" to include in what will be committed)\r\n",
        "#\r\n",
        "#\t.gitignore\r\n",
        "#\thello.py\r\n",
        "no changes added to commit (use \"git add\" and/or \"git commit -a\")\r\n"
       ]
      }
     ],
     "prompt_number": 20
    },
    {
     "cell_type": "code",
     "collapsed": false,
     "input": [
      "! git add .gitignore && git status"
     ],
     "language": "python",
     "metadata": {},
     "outputs": [
      {
       "output_type": "stream",
       "stream": "stdout",
       "text": [
        "# On branch master\r\n",
        "# Changes to be committed:\r\n",
        "#   (use \"git reset HEAD <file>...\" to unstage)\r\n",
        "#\r\n",
        "#\tnew file:   .gitignore\r\n",
        "#\r\n",
        "# Changes not staged for commit:\r\n",
        "#   (use \"git add <file>...\" to update what will be committed)\r\n",
        "#   (use \"git checkout -- <file>...\" to discard changes in working directory)\r\n",
        "#\r\n",
        "#\tmodified:   game.py\r\n",
        "#\r\n",
        "# Untracked files:\r\n",
        "#   (use \"git add <file>...\" to include in what will be committed)\r\n",
        "#\r\n",
        "#\thello.py\r\n"
       ]
      }
     ],
     "prompt_number": 21
    },
    {
     "cell_type": "code",
     "collapsed": false,
     "input": [
      "! git commit -m \"Added .gitignore\""
     ],
     "language": "python",
     "metadata": {},
     "outputs": [
      {
       "output_type": "stream",
       "stream": "stdout",
       "text": [
        "[master 5558817] Added .gitignore\r\n",
        " 1 file changed, 1 insertion(+)\r\n",
        " create mode 100644 .gitignore\r\n"
       ]
      }
     ],
     "prompt_number": 22
    },
    {
     "cell_type": "code",
     "collapsed": false,
     "input": [
      "! git status"
     ],
     "language": "python",
     "metadata": {},
     "outputs": [
      {
       "output_type": "stream",
       "stream": "stdout",
       "text": [
        "# On branch master\r\n",
        "# Changes not staged for commit:\r\n",
        "#   (use \"git add <file>...\" to update what will be committed)\r\n",
        "#   (use \"git checkout -- <file>...\" to discard changes in working directory)\r\n",
        "#\r\n",
        "#\tmodified:   game.py\r\n",
        "#\r\n",
        "# Untracked files:\r\n",
        "#   (use \"git add <file>...\" to include in what will be committed)\r\n",
        "#\r\n",
        "#\thello.py\r\n",
        "no changes added to commit (use \"git add\" and/or \"git commit -a\")\r\n"
       ]
      }
     ],
     "prompt_number": 23
    },
    {
     "cell_type": "markdown",
     "metadata": {},
     "source": [
      "Clear the temporary `hello` file."
     ]
    },
    {
     "cell_type": "code",
     "collapsed": false,
     "input": [
      "! rm hello.py* && echo -n \"\" >game.py"
     ],
     "language": "python",
     "metadata": {},
     "outputs": [],
     "prompt_number": 34
    },
    {
     "cell_type": "code",
     "collapsed": false,
     "input": [
      "! git status"
     ],
     "language": "python",
     "metadata": {},
     "outputs": [
      {
       "output_type": "stream",
       "stream": "stdout",
       "text": [
        "# On branch master\r\n",
        "nothing to commit, working directory clean\r\n"
       ]
      }
     ],
     "prompt_number": 35
    },
    {
     "cell_type": "code",
     "collapsed": false,
     "input": [
      "! git log"
     ],
     "language": "python",
     "metadata": {},
     "outputs": [
      {
       "output_type": "stream",
       "stream": "stdout",
       "text": [
        "commit 5558817d194fe165fe0c37e624e3996bcc5052d8\r\n",
        "Author: Abhishek Gupta <abhi.bansal21@gmail.com>\r\n",
        "Date:   Mon Feb 17 17:26:53 2014 +0530\r\n",
        "\r\n",
        "    Added .gitignore\r\n",
        "\r\n",
        "commit 0c60086b6b33639a5349cfc168719dba9f2e8260\r\n",
        "Author: Abhishek Gupta <abhi.bansal21@gmail.com>\r\n",
        "Date:   Mon Feb 17 17:22:21 2014 +0530\r\n",
        "\r\n",
        "    Added the main game file.\r\n"
       ]
      }
     ],
     "prompt_number": 36
    },
    {
     "cell_type": "code",
     "collapsed": false,
     "input": [
      "! git log --oneline"
     ],
     "language": "python",
     "metadata": {},
     "outputs": [
      {
       "output_type": "stream",
       "stream": "stdout",
       "text": [
        "5558817 Added .gitignore\r\n",
        "0c60086 Added the main game file.\r\n"
       ]
      }
     ],
     "prompt_number": 37
    },
    {
     "cell_type": "markdown",
     "metadata": {},
     "source": [
      "#Working With Multiple Branches\n",
      "##Branching"
     ]
    },
    {
     "cell_type": "code",
     "collapsed": false,
     "input": [
      "! git branch"
     ],
     "language": "python",
     "metadata": {},
     "outputs": [
      {
       "output_type": "stream",
       "stream": "stdout",
       "text": [
        "* master\r\n"
       ]
      }
     ],
     "prompt_number": 38
    },
    {
     "cell_type": "markdown",
     "metadata": {},
     "source": [
      "Make a new branch."
     ]
    },
    {
     "cell_type": "code",
     "collapsed": false,
     "input": [
      "! git branch dev && git branch"
     ],
     "language": "python",
     "metadata": {},
     "outputs": [
      {
       "output_type": "stream",
       "stream": "stdout",
       "text": [
        "  dev\r\n",
        "* master\r\n"
       ]
      }
     ],
     "prompt_number": 39
    },
    {
     "cell_type": "markdown",
     "metadata": {},
     "source": [
      "In the aobve command we have done branching, right but of what i.e branching of what?\n",
      "\n",
      "Checkout to new branch. What does checking out to a branch mean?"
     ]
    },
    {
     "cell_type": "code",
     "collapsed": false,
     "input": [
      "! git checkout dev "
     ],
     "language": "python",
     "metadata": {},
     "outputs": [
      {
       "output_type": "stream",
       "stream": "stdout",
       "text": [
        "Switched to branch 'dev'\r\n"
       ]
      }
     ],
     "prompt_number": 40
    },
    {
     "cell_type": "markdown",
     "metadata": {},
     "source": [
      "Why does we named the branch dev?\n",
      "Are we following any conventions?\n",
      "\n",
      "_Hint: Workflows_"
     ]
    },
    {
     "cell_type": "code",
     "collapsed": false,
     "input": [
      "! git status"
     ],
     "language": "python",
     "metadata": {},
     "outputs": [
      {
       "output_type": "stream",
       "stream": "stdout",
       "text": [
        "# On branch dev\r\n",
        "nothing to commit, working directory clean\r\n"
       ]
      }
     ],
     "prompt_number": 41
    },
    {
     "cell_type": "markdown",
     "metadata": {},
     "source": [
      "Now add some base code for our game to the `game.py` file.\n",
      "\n",
      "```python\n",
      "#!/usr/bin/python\n",
      "import os\n",
      "\n",
      "def main():\n",
      "    print \"Welcome to guess the number\\n===========================\"\n",
      "\n",
      "    num = 42\n",
      "    guess = \"\"\n",
      "\n",
      "    while guess != num:\n",
      "        guess = int(raw_input(\"Take a guess: \"))\n",
      "        if guess < num:\n",
      "            print \"Guess higher next time\\n\"\n",
      "        elif guess > num:\n",
      "            print \"Guess lower next time\\n\"\n",
      "    print \"CONGRATULATIONS!\"\n",
      "\n",
      "main()\n",
      "\n",
      "```"
     ]
    },
    {
     "cell_type": "code",
     "collapsed": false,
     "input": [
      "! git status"
     ],
     "language": "python",
     "metadata": {},
     "outputs": [
      {
       "output_type": "stream",
       "stream": "stdout",
       "text": [
        "# On branch dev\r\n",
        "# Changes not staged for commit:\r\n",
        "#   (use \"git add <file>...\" to update what will be committed)\r\n",
        "#   (use \"git checkout -- <file>...\" to discard changes in working directory)\r\n",
        "#\r\n",
        "#\tmodified:   game.py\r\n",
        "#\r\n",
        "no changes added to commit (use \"git add\" and/or \"git commit -a\")\r\n"
       ]
      }
     ],
     "prompt_number": 43
    },
    {
     "cell_type": "code",
     "collapsed": false,
     "input": [
      "! git add game.py && git commit -m \"Made a working game.\""
     ],
     "language": "python",
     "metadata": {},
     "outputs": [
      {
       "output_type": "stream",
       "stream": "stdout",
       "text": [
        "[dev c6db876] Made a working game.\r\n",
        " 1 file changed, 18 insertions(+)\r\n"
       ]
      }
     ],
     "prompt_number": 44
    },
    {
     "cell_type": "markdown",
     "metadata": {},
     "source": [
      "##Merging\n",
      "\n",
      "What does merging do?\n",
      "\n",
      "Why we want to merge?\n",
      "\n",
      "We are merging what to what? _Hint: Workflows_"
     ]
    },
    {
     "cell_type": "code",
     "collapsed": false,
     "input": [
      "! git checkout master && git status"
     ],
     "language": "python",
     "metadata": {},
     "outputs": [
      {
       "output_type": "stream",
       "stream": "stdout",
       "text": [
        "Switched to branch 'master'\r\n",
        "# On branch master\r\n",
        "nothing to commit, working directory clean\r\n"
       ]
      }
     ],
     "prompt_number": 45
    },
    {
     "cell_type": "markdown",
     "metadata": {},
     "source": [
      "Let's check the difference between the `master` and `dev`."
     ]
    },
    {
     "cell_type": "code",
     "collapsed": false,
     "input": [
      "! git diff dev"
     ],
     "language": "python",
     "metadata": {},
     "outputs": [
      {
       "output_type": "stream",
       "stream": "stdout",
       "text": [
        "diff --git a/game.py b/game.py\r\n",
        "index 722b02b..e69de29 100644\r\n",
        "--- a/game.py\r\n",
        "+++ b/game.py\r\n",
        "@@ -1,18 +0,0 @@\r\n",
        "-#!/usr/bin/python\r\n",
        "-import os\r\n",
        "-\r\n",
        "-def main():\r\n",
        "-    print \"Welcome to guess the number\\n===========================\"\r\n",
        "-\r\n",
        "-    num = 42\r\n",
        "-    guess = \"\"\r\n",
        "-\r\n",
        "-    while guess != num:\r\n",
        "-        guess = int(raw_input(\"Take a guess: \"))\r\n",
        "-        if guess < num:\r\n",
        "-            print \"Guess higher next time\\n\"\r\n",
        "-        elif guess > num:\r\n",
        "-            print \"Guess lower next time\\n\"\r\n",
        "-    print \"CONGRATULATIONS!\"\r\n",
        "-\r\n",
        "-main()\r\n",
        "\\ No newline at end of file\r\n"
       ]
      }
     ],
     "prompt_number": 46
    },
    {
     "cell_type": "code",
     "collapsed": false,
     "input": [
      "! git merge dev"
     ],
     "language": "python",
     "metadata": {},
     "outputs": [
      {
       "output_type": "stream",
       "stream": "stdout",
       "text": [
        "Updating 5558817..c6db876\r\n",
        "Fast-forward\r\n"
       ]
      },
      {
       "output_type": "stream",
       "stream": "stdout",
       "text": [
        " game.py | 18 ++++++++++++++++++\r\n",
        " 1 file changed, 18 insertions(+)\r\n"
       ]
      }
     ],
     "prompt_number": 47
    },
    {
     "cell_type": "code",
     "collapsed": false,
     "input": [
      "! git log"
     ],
     "language": "python",
     "metadata": {},
     "outputs": [
      {
       "output_type": "stream",
       "stream": "stdout",
       "text": [
        "commit c6db87633eb9bc527d4172489bfe750f6e94dee9\r\n",
        "Author: Abhishek Gupta <abhi.bansal21@gmail.com>\r\n",
        "Date:   Mon Feb 17 17:39:31 2014 +0530\r\n",
        "\r\n",
        "    Made a working game.\r\n",
        "\r\n",
        "commit 5558817d194fe165fe0c37e624e3996bcc5052d8\r\n",
        "Author: Abhishek Gupta <abhi.bansal21@gmail.com>\r\n",
        "Date:   Mon Feb 17 17:26:53 2014 +0530\r\n",
        "\r\n",
        "    Added .gitignore\r\n",
        "\r\n",
        "commit 0c60086b6b33639a5349cfc168719dba9f2e8260\r\n",
        "Author: Abhishek Gupta <abhi.bansal21@gmail.com>\r\n",
        "Date:   Mon Feb 17 17:22:21 2014 +0530\r\n",
        "\r\n",
        "    Added the main game file.\r\n"
       ]
      }
     ],
     "prompt_number": 48
    },
    {
     "cell_type": "code",
     "collapsed": false,
     "input": [
      "! git log --oneline --decorate"
     ],
     "language": "python",
     "metadata": {},
     "outputs": [
      {
       "output_type": "stream",
       "stream": "stdout",
       "text": [
        "c6db876 (HEAD, master, dev) Made a working game.\r\n",
        "5558817 Added .gitignore\r\n",
        "0c60086 Added the main game file.\r\n"
       ]
      }
     ],
     "prompt_number": 49
    },
    {
     "cell_type": "markdown",
     "metadata": {},
     "source": [
      "##Tagging\n",
      "\n",
      "Is this is a special commit?\n",
      "\n",
      "Does this represent something specific? _Hint: Base Version_"
     ]
    },
    {
     "cell_type": "code",
     "collapsed": false,
     "input": [
      "! git tag v1.0"
     ],
     "language": "python",
     "metadata": {},
     "outputs": [],
     "prompt_number": 50
    },
    {
     "cell_type": "markdown",
     "metadata": {},
     "source": [
      "How to give versions?? \n",
      "\n",
      "See References at top."
     ]
    },
    {
     "cell_type": "code",
     "collapsed": false,
     "input": [
      "! git log --oneline --decorate"
     ],
     "language": "python",
     "metadata": {},
     "outputs": [
      {
       "output_type": "stream",
       "stream": "stdout",
       "text": [
        "c6db876 (HEAD, tag: v1.0, master, dev) Made a working game.\r\n",
        "5558817 Added .gitignore\r\n",
        "0c60086 Added the main game file.\r\n"
       ]
      }
     ],
     "prompt_number": 51
    },
    {
     "cell_type": "code",
     "collapsed": false,
     "input": [
      "! git branch && git checkout dev"
     ],
     "language": "python",
     "metadata": {},
     "outputs": [
      {
       "output_type": "stream",
       "stream": "stdout",
       "text": [
        "  dev\r\n",
        "* master\r\n",
        "Switched to branch 'dev'\r\n"
       ]
      }
     ],
     "prompt_number": 52
    },
    {
     "cell_type": "markdown",
     "metadata": {},
     "source": [
      "##Adding a Bug/Feature\n",
      "\n",
      "What is the difference between two?\n",
      "\n",
      "What should be the workflow for the same?"
     ]
    },
    {
     "cell_type": "markdown",
     "metadata": {},
     "source": [
      "###Feature 1: Pretty Interface\n",
      "\n",
      "Right now the interface of the game is not intuitive. Improve it to make it more informative and easy to play with.\n",
      "\n",
      "Create a new branch to add this feature.\n",
      "\n",
      "Why creating a whole new branch to add a feature?  _Hint: Independent Development_\n",
      "\n",
      "What should be the name of the branch?"
     ]
    },
    {
     "cell_type": "code",
     "collapsed": false,
     "input": [
      "! git checkout -b feature-pretty_interface"
     ],
     "language": "python",
     "metadata": {},
     "outputs": [
      {
       "output_type": "stream",
       "stream": "stdout",
       "text": [
        "Switched to a new branch 'feature-pretty_interface'\r\n"
       ]
      }
     ],
     "prompt_number": 14
    },
    {
     "cell_type": "markdown",
     "metadata": {},
     "source": [
      "Following is the improved code:\n",
      "\n",
      "```python\n",
      "#!/usr/bin/python\n",
      "import os\n",
      "\n",
      "def main():\n",
      "    print \"Welcome to guess the number\\n===========================\"\n",
      "    print \"\\nI'm thinking of a number, you have to guess what it is.\\n\"\n",
      "\n",
      "    num = 42\n",
      "    guess = \"\"\n",
      "\n",
      "    while guess != num:\n",
      "        guess = int(raw_input(\"Take a guess: \"))\n",
      "        if guess < num:\n",
      "            print \"Guess higher next time\\n\"\n",
      "        elif guess > num:\n",
      "            print \"Guess lower next time\\n\"\n",
      "    print \"Voila! You got it!\\nNow you know the deep secrets of life, universe and everything...\\n\"\n",
      "\n",
      "main()\n",
      "```"
     ]
    },
    {
     "cell_type": "code",
     "collapsed": false,
     "input": [
      "! git diff game.py"
     ],
     "language": "python",
     "metadata": {},
     "outputs": [
      {
       "output_type": "stream",
       "stream": "stdout",
       "text": [
        "diff --git a/game.py b/game.py\r\n",
        "index 722b02b..a698c77 100644\r\n",
        "--- a/game.py\r\n",
        "+++ b/game.py\r\n",
        "@@ -3,6 +3,7 @@ import os\r\n",
        " \r\n",
        " def main():\r\n",
        "     print \"Welcome to guess the number\\n===========================\"\r\n",
        "+    print \"\\nI'm thinking of a number, you have to guess what it is.\\n\"\r\n",
        " \r\n",
        "     num = 42\r\n",
        "     guess = \"\"\r\n",
        "@@ -13,6 +14,6 @@ def main():\r\n",
        "             print \"Guess higher next time\\n\"\r\n",
        "         elif guess > num:\r\n",
        "             print \"Guess lower next time\\n\"\r\n",
        "-    print \"CONGRATULATIONS!\"\r\n",
        "+    print \"Voila! You got it!\\nNow you know the deep secrets of life, universe and everything...\\n\"\r\n",
        " \r\n",
        " main()\r\n",
        "\\ No newline at end of file\r\n"
       ]
      }
     ],
     "prompt_number": 15
    },
    {
     "cell_type": "code",
     "collapsed": false,
     "input": [
      "! git add game.py && git commit -m \"Improved the user interface.\""
     ],
     "language": "python",
     "metadata": {},
     "outputs": [
      {
       "output_type": "stream",
       "stream": "stdout",
       "text": [
        "[feature-pretty_interface 4da44b9] Improved the user interface.\r\n",
        " 1 file changed, 2 insertions(+), 1 deletion(-)\r\n"
       ]
      }
     ],
     "prompt_number": 16
    },
    {
     "cell_type": "code",
     "collapsed": false,
     "input": [
      "! git log --oneline --decorate"
     ],
     "language": "python",
     "metadata": {},
     "outputs": [
      {
       "output_type": "stream",
       "stream": "stdout",
       "text": [
        "4da44b9 (HEAD, feature-pretty_interface) Improved the user interface.\r\n",
        "c6db876 (tag: v1.0, master, dev) Made a working game.\r\n",
        "5558817 Added .gitignore\r\n",
        "0c60086 Added the main game file.\r\n"
       ]
      }
     ],
     "prompt_number": 17
    },
    {
     "cell_type": "code",
     "collapsed": false,
     "input": [
      "! git checkout dev"
     ],
     "language": "python",
     "metadata": {},
     "outputs": [
      {
       "output_type": "stream",
       "stream": "stdout",
       "text": [
        "Switched to branch 'dev'\r\n"
       ]
      }
     ],
     "prompt_number": 18
    },
    {
     "cell_type": "code",
     "collapsed": false,
     "input": [
      "! git log --oneline --decorate"
     ],
     "language": "python",
     "metadata": {},
     "outputs": [
      {
       "output_type": "stream",
       "stream": "stdout",
       "text": [
        "c6db876 (HEAD, tag: v1.0, master, dev) Made a working game.\r\n",
        "5558817 Added .gitignore\r\n",
        "0c60086 Added the main game file.\r\n"
       ]
      }
     ],
     "prompt_number": 19
    },
    {
     "cell_type": "markdown",
     "metadata": {},
     "source": [
      "I hope you noted that you are not able to see the commit we made in `feature-pretty_interface` in `dev` branch.\n",
      "\n",
      "Is this what we want?"
     ]
    },
    {
     "cell_type": "code",
     "collapsed": false,
     "input": [
      "! git log --oneline --decorate --all"
     ],
     "language": "python",
     "metadata": {},
     "outputs": [
      {
       "output_type": "stream",
       "stream": "stdout",
       "text": [
        "4da44b9 (feature-pretty_interface) Improved the user interface.\r\n",
        "c6db876 (HEAD, tag: v1.0, master, dev) Made a working game.\r\n",
        "5558817 Added .gitignore\r\n",
        "0c60086 Added the main game file.\r\n"
       ]
      }
     ],
     "prompt_number": 21
    },
    {
     "cell_type": "markdown",
     "metadata": {},
     "source": [
      "###Feature2: Randomising the number to guess (add a twist to the game)\n",
      "\n",
      "In this feature we want to randomly generate the number to guess for every game.\n",
      "\n",
      "**Food for thought:**\n",
      "\n",
      "Who could be creating this feature?\n",
      "\n",
      "Should we create a new branch?\n",
      "\n",
      "Aren't we implementing some other feature already?"
     ]
    },
    {
     "cell_type": "markdown",
     "metadata": {},
     "source": [
      "Let's create a new branch for this feature.\n",
      "\n",
      "From where should we create this branch?"
     ]
    },
    {
     "cell_type": "code",
     "collapsed": false,
     "input": [
      "! git checkout -b \"feature-rand_num_guess\""
     ],
     "language": "python",
     "metadata": {},
     "outputs": [
      {
       "output_type": "stream",
       "stream": "stdout",
       "text": [
        "Switched to a new branch 'feature-rand_num_guess'\r\n"
       ]
      }
     ],
     "prompt_number": 22
    },
    {
     "cell_type": "markdown",
     "metadata": {},
     "source": [
      "This is the new modified code:\n",
      "\n",
      "```python\n",
      "#!/usr/bin/python\n",
      "import os\n",
      "import random\n",
      "\n",
      "def main():\n",
      "    print \"Welcome to guess the number\\n===========================\"\n",
      "\n",
      "    num = random.random()*100 // 1\n",
      "    guess = \"\"\n",
      "\n",
      "    while guess != num:\n",
      "        guess = int(raw_input(\"Take a guess: \"))\n",
      "        if guess < num:\n",
      "            print \"Guess higher next time\\n\"\n",
      "        elif guess > num:\n",
      "            print \"Guess lower next time\\n\"\n",
      "    print \"CONGRATULATIONS!\"\n",
      "\n",
      "main()\n",
      "```"
     ]
    },
    {
     "cell_type": "code",
     "collapsed": false,
     "input": [
      "! git diff"
     ],
     "language": "python",
     "metadata": {},
     "outputs": [
      {
       "output_type": "stream",
       "stream": "stdout",
       "text": [
        "diff --git a/game.py b/game.py\r\n",
        "index 722b02b..8afaf41 100644\r\n",
        "--- a/game.py\r\n",
        "+++ b/game.py\r\n",
        "@@ -1,10 +1,11 @@\r\n",
        " #!/usr/bin/python\r\n",
        " import os\r\n",
        "+import random\r\n",
        " \r\n",
        " def main():\r\n",
        "     print \"Welcome to guess the number\\n===========================\"\r\n",
        " \r\n",
        "-    num = 42\r\n",
        "+    num = random.random()*100 // 1\r\n",
        "     guess = \"\"\r\n",
        " \r\n",
        "     while guess != num:\r\n"
       ]
      }
     ],
     "prompt_number": 23
    },
    {
     "cell_type": "code",
     "collapsed": false,
     "input": [
      "! git add game.py && git commit -m \"The number to be guessed is now random.\""
     ],
     "language": "python",
     "metadata": {},
     "outputs": [
      {
       "output_type": "stream",
       "stream": "stdout",
       "text": [
        "[feature-rand_num_guess f4eaf93] The number to be guessed is now random.\r\n",
        " 1 file changed, 2 insertions(+), 1 deletion(-)\r\n"
       ]
      }
     ],
     "prompt_number": 24
    },
    {
     "cell_type": "code",
     "collapsed": false,
     "input": [
      "! git log --oneline --decorate"
     ],
     "language": "python",
     "metadata": {},
     "outputs": [
      {
       "output_type": "stream",
       "stream": "stdout",
       "text": [
        "f4eaf93 (HEAD, feature-rand_num_guess) The number to be guessed is now random.\r\n",
        "c6db876 (tag: v1.0, master, dev) Made a working game.\r\n",
        "5558817 Added .gitignore\r\n",
        "0c60086 Added the main game file.\r\n"
       ]
      }
     ],
     "prompt_number": 25
    },
    {
     "cell_type": "code",
     "collapsed": false,
     "input": [
      "! git log --oneline --decorate --all"
     ],
     "language": "python",
     "metadata": {},
     "outputs": [
      {
       "output_type": "stream",
       "stream": "stdout",
       "text": [
        "f4eaf93 (HEAD, feature-rand_num_guess) The number to be guessed is now random.\r\n",
        "4da44b9 (feature-pretty_interface) Improved the user interface.\r\n",
        "c6db876 (tag: v1.0, master, dev) Made a working game.\r\n",
        "5558817 Added .gitignore\r\n",
        "0c60086 Added the main game file.\r\n"
       ]
      }
     ],
     "prompt_number": 26
    },
    {
     "cell_type": "code",
     "collapsed": false,
     "input": [
      "! git log --oneline --decorate --all --graph"
     ],
     "language": "python",
     "metadata": {},
     "outputs": [
      {
       "output_type": "stream",
       "stream": "stdout",
       "text": [
        "* f4eaf93 (HEAD, feature-rand_num_guess) The number to be guessed is now random.\r\n",
        "| * 4da44b9 (feature-pretty_interface) Improved the user interface.\r\n",
        "|/  \r\n",
        "* c6db876 (tag: v1.0, master, dev) Made a working game.\r\n",
        "* 5558817 Added .gitignore\r\n",
        "* 0c60086 Added the main game file.\r\n"
       ]
      }
     ],
     "prompt_number": 27
    },
    {
     "cell_type": "code",
     "collapsed": false,
     "input": [
      "! git log --oneline --decorate --graph"
     ],
     "language": "python",
     "metadata": {},
     "outputs": [
      {
       "output_type": "stream",
       "stream": "stdout",
       "text": [
        "* f4eaf93 (HEAD, feature-rand_num_guess) The number to be guessed is now random.\r\n",
        "* c6db876 (tag: v1.0, master, dev) Made a working game.\r\n",
        "* 5558817 Added .gitignore\r\n",
        "* 0c60086 Added the main game file.\r\n"
       ]
      }
     ],
     "prompt_number": 28
    },
    {
     "cell_type": "code",
     "collapsed": false,
     "input": [
      "! git checkout dev"
     ],
     "language": "python",
     "metadata": {},
     "outputs": [
      {
       "output_type": "stream",
       "stream": "stdout",
       "text": [
        "Switched to branch 'dev'\r\n"
       ]
      }
     ],
     "prompt_number": 29
    },
    {
     "cell_type": "markdown",
     "metadata": {},
     "source": [
      "##Diff Branch\n",
      "\n",
      "`git diff <_old_> [_new_/_current_]`\n",
      "\n",
      "Another benefit of working with branch."
     ]
    },
    {
     "cell_type": "code",
     "collapsed": false,
     "input": [
      "! git diff dev feature-pretty_interface"
     ],
     "language": "python",
     "metadata": {},
     "outputs": [
      {
       "output_type": "stream",
       "stream": "stdout",
       "text": [
        "diff --git a/game.py b/game.py\r\n",
        "index 722b02b..a698c77 100644\r\n",
        "--- a/game.py\r\n",
        "+++ b/game.py\r\n",
        "@@ -3,6 +3,7 @@ import os\r\n",
        " \r\n",
        " def main():\r\n",
        "     print \"Welcome to guess the number\\n===========================\"\r\n",
        "+    print \"\\nI'm thinking of a number, you have to guess what it is.\\n\"\r\n",
        " \r\n",
        "     num = 42\r\n",
        "     guess = \"\"\r\n",
        "@@ -13,6 +14,6 @@ def main():\r\n",
        "             print \"Guess higher next time\\n\"\r\n",
        "         elif guess > num:\r\n",
        "             print \"Guess lower next time\\n\"\r\n",
        "-    print \"CONGRATULATIONS!\"\r\n",
        "+    print \"Voila! You got it!\\nNow you know the deep secrets of life, universe and everything...\\n\"\r\n",
        " \r\n",
        " main()\r\n",
        "\\ No newline at end of file\r\n"
       ]
      }
     ],
     "prompt_number": 31
    },
    {
     "cell_type": "code",
     "collapsed": false,
     "input": [
      "! git diff dev feature-rand_num_guess"
     ],
     "language": "python",
     "metadata": {},
     "outputs": [
      {
       "output_type": "stream",
       "stream": "stdout",
       "text": [
        "diff --git a/game.py b/game.py\r\n",
        "index 722b02b..8afaf41 100644\r\n",
        "--- a/game.py\r\n",
        "+++ b/game.py\r\n",
        "@@ -1,10 +1,11 @@\r\n",
        " #!/usr/bin/python\r\n",
        " import os\r\n",
        "+import random\r\n",
        " \r\n",
        " def main():\r\n",
        "     print \"Welcome to guess the number\\n===========================\"\r\n",
        " \r\n",
        "-    num = 42\r\n",
        "+    num = random.random()*100 // 1\r\n",
        "     guess = \"\"\r\n",
        " \r\n",
        "     while guess != num:\r\n"
       ]
      }
     ],
     "prompt_number": 32
    },
    {
     "cell_type": "code",
     "collapsed": false,
     "input": [
      "! git diff feature-pretty_interface feature-rand_num_guess"
     ],
     "language": "python",
     "metadata": {},
     "outputs": [
      {
       "output_type": "stream",
       "stream": "stdout",
       "text": [
        "diff --git a/game.py b/game.py\r\n",
        "index a698c77..8afaf41 100644\r\n",
        "--- a/game.py\r\n",
        "+++ b/game.py\r\n",
        "@@ -1,11 +1,11 @@\r\n",
        " #!/usr/bin/python\r\n",
        " import os\r\n",
        "+import random\r\n",
        " \r\n",
        " def main():\r\n",
        "     print \"Welcome to guess the number\\n===========================\"\r\n",
        "-    print \"\\nI'm thinking of a number, you have to guess what it is.\\n\"\r\n",
        " \r\n",
        "-    num = 42\r\n",
        "+    num = random.random()*100 // 1\r\n",
        "     guess = \"\"\r\n",
        " \r\n",
        "     while guess != num:\r\n",
        "@@ -14,6 +14,6 @@ def main():\r\n",
        "             print \"Guess higher next time\\n\"\r\n",
        "         elif guess > num:\r\n",
        "             print \"Guess lower next time\\n\"\r\n",
        "-    print \"Voila! You got it!\\nNow you know the deep secrets of life, universe and everything...\\n\"\r\n",
        "+    print \"CONGRATULATIONS!\"\r\n",
        " \r\n",
        " main()\r\n",
        "\\ No newline at end of file\r\n"
       ]
      }
     ],
     "prompt_number": 33
    },
    {
     "cell_type": "markdown",
     "metadata": {},
     "source": [
      "What is the meaning of `+` and `-` in `diff` output?"
     ]
    },
    {
     "cell_type": "markdown",
     "metadata": {},
     "source": [
      "##Merging Multiple Branches\n",
      "\n",
      "What could be difference from previous merging?\n",
      "\n",
      "### Merging feature-rand_num_guess"
     ]
    },
    {
     "cell_type": "code",
     "collapsed": false,
     "input": [
      "! git merge feature-rand_num_guess"
     ],
     "language": "python",
     "metadata": {},
     "outputs": [
      {
       "output_type": "stream",
       "stream": "stdout",
       "text": [
        "Updating c6db876..f4eaf93\r\n",
        "Fast-forward\r\n"
       ]
      },
      {
       "output_type": "stream",
       "stream": "stdout",
       "text": [
        " game.py | 3 ++-\r\n",
        " 1 file changed, 2 insertions(+), 1 deletion(-)\r\n"
       ]
      }
     ],
     "prompt_number": 34
    },
    {
     "cell_type": "code",
     "collapsed": false,
     "input": [
      "! git log --oneline --decorate --all --graph"
     ],
     "language": "python",
     "metadata": {},
     "outputs": [
      {
       "output_type": "stream",
       "stream": "stdout",
       "text": [
        "* f4eaf93 (HEAD, feature-rand_num_guess, dev) The number to be guessed is now random.\r\n",
        "| * 4da44b9 (feature-pretty_interface) Improved the user interface.\r\n",
        "|/  \r\n",
        "* c6db876 (tag: v1.0, master) Made a working game.\r\n",
        "* 5558817 Added .gitignore\r\n",
        "* 0c60086 Added the main game file.\r\n"
       ]
      }
     ],
     "prompt_number": 35
    },
    {
     "cell_type": "markdown",
     "metadata": {},
     "source": [
      "###Merging feature-pretty_interface\n",
      "\n",
      "**Warning! Show on Terminal**\n",
      "\n",
      "*The below command requires user intervention. It will ask us to enter a commit message.*\n",
      "\n",
      "Is there any difference between the following merge and all the merges we have done in the past?\n",
      "\n",
      "What could be the merging algorithm?"
     ]
    },
    {
     "cell_type": "code",
     "collapsed": false,
     "input": [
      "! git merge feature-pretty_interface -m \"Merging feature-pretty_interface into dev\""
     ],
     "language": "python",
     "metadata": {},
     "outputs": [
      {
       "output_type": "stream",
       "stream": "stdout",
       "text": [
        "Auto-merging game.py\r\n",
        "Merge made by the 'recursive' strategy.\r\n"
       ]
      },
      {
       "output_type": "stream",
       "stream": "stdout",
       "text": [
        " game.py | 3 ++-\r\n",
        " 1 file changed, 2 insertions(+), 1 deletion(-)\r\n"
       ]
      }
     ],
     "prompt_number": 5
    },
    {
     "cell_type": "markdown",
     "metadata": {},
     "source": [
      "Why in the previous merge the first output line is `Fast-forward` and in this is `Auto-merging ...`?"
     ]
    },
    {
     "cell_type": "code",
     "collapsed": false,
     "input": [
      "! git status"
     ],
     "language": "python",
     "metadata": {},
     "outputs": [
      {
       "output_type": "stream",
       "stream": "stdout",
       "text": [
        "# On branch dev\r\n",
        "nothing to commit, working directory clean\r\n"
       ]
      }
     ],
     "prompt_number": 36
    },
    {
     "cell_type": "code",
     "collapsed": false,
     "input": [
      "! git log --oneline --decorate --all --graph"
     ],
     "language": "python",
     "metadata": {},
     "outputs": [
      {
       "output_type": "stream",
       "stream": "stdout",
       "text": [
        "*   4c161b4 (HEAD, dev) Merging feature-pretty_interface into dev\r\n",
        "|\\  \r\n",
        "| * 046fc6c (feature-pretty_interface) Improved the user interface.\r\n",
        "* | bea068e (feature-rand_num_guess) The number to be guessed is now random.\r\n",
        "|/  \r\n",
        "* 8398393 (tag: v1.0, master) Made a working game.\r\n",
        "* 1df665d Added .gitignore\r\n",
        "* 7af15f2 Added the main game file.\r\n"
       ]
      }
     ],
     "prompt_number": 7
    },
    {
     "cell_type": "markdown",
     "metadata": {},
     "source": [
      "Are you able to understand the structure of the graph?"
     ]
    },
    {
     "cell_type": "code",
     "collapsed": false,
     "input": [
      "! git log --oneline --decorate --graph"
     ],
     "language": "python",
     "metadata": {},
     "outputs": [
      {
       "output_type": "stream",
       "stream": "stdout",
       "text": [
        "*   63716cf (HEAD, dev) Merging feature-pretty_interface into dev\r\n",
        "|\\  \r\n",
        "| * 4da44b9 (feature-pretty_interface) Improved the user interface.\r\n",
        "* | f4eaf93 (feature-rand_num_guess) The number to be guessed is now random.\r\n",
        "|/  \r\n",
        "* c6db876 (tag: v1.0, master) Made a working game.\r\n",
        "* 5558817 Added .gitignore\r\n",
        "* 0c60086 Added the main game file.\r\n"
       ]
      }
     ],
     "prompt_number": 37
    },
    {
     "cell_type": "markdown",
     "metadata": {},
     "source": [
      "##Adding Feature3: Adding Game Instructions\n",
      "\n",
      "In this feature we want to display the proper instructions on the console to play the game."
     ]
    },
    {
     "cell_type": "markdown",
     "metadata": {},
     "source": [
      "###Creating New Branch Form a Previous Commit\n",
      "\n",
      "What are we doing before when we are creating a new branch?\n",
      "\n",
      "Why we are creating this new branch in a detached state? / How we selected this particular commit?\n",
      "\n",
      "_Hint: Have we covered all he possbile cases for merge?_\n"
     ]
    },
    {
     "cell_type": "code",
     "collapsed": false,
     "input": [
      "! git checkout c6db876 #git checkout dev HEAD~2"
     ],
     "language": "python",
     "metadata": {},
     "outputs": [
      {
       "output_type": "stream",
       "stream": "stdout",
       "text": [
        "Note: checking out 'c6db876'.\r\n",
        "\r\n",
        "You are in 'detached HEAD' state. You can look around, make experimental\r\n",
        "changes and commit them, and you can discard any commits you make in this\r\n",
        "state without impacting any branches by performing another checkout.\r\n",
        "\r\n",
        "If you want to create a new branch to retain commits you create, you may\r\n",
        "do so (now or later) by using -b with the checkout command again. Example:\r\n",
        "\r\n",
        "  git checkout -b new_branch_name\r\n",
        "\r\n",
        "HEAD is now at c6db876... Made a working game.\r\n"
       ]
      }
     ],
     "prompt_number": 38
    },
    {
     "cell_type": "markdown",
     "metadata": {},
     "source": [
      "What the above message showing?\n",
      "\n",
      "What is `HEAD`?\n",
      "\n",
      "What is the meaning of `HEAD~2`?\n",
      "\n",
      "Why it is `HEAD~2` not `HEAD~3`?"
     ]
    },
    {
     "cell_type": "code",
     "collapsed": false,
     "input": [
      "! git checkout -b \"feature-instructions\""
     ],
     "language": "python",
     "metadata": {},
     "outputs": [
      {
       "output_type": "stream",
       "stream": "stdout",
       "text": [
        "Switched to a new branch 'feature-instructions'\r\n"
       ]
      }
     ],
     "prompt_number": 39
    },
    {
     "cell_type": "code",
     "collapsed": false,
     "input": [
      "! git log --oneline --decorate --all --graph"
     ],
     "language": "python",
     "metadata": {},
     "outputs": [
      {
       "output_type": "stream",
       "stream": "stdout",
       "text": [
        "*   63716cf (dev) Merging feature-pretty_interface into dev\r\n",
        "|\\  \r\n",
        "| * 4da44b9 (feature-pretty_interface) Improved the user interface.\r\n",
        "* | f4eaf93 (feature-rand_num_guess) The number to be guessed is now random.\r\n",
        "|/  \r\n",
        "* c6db876 (HEAD, tag: v1.0, master, feature-instructions) Made a working game.\r\n",
        "* 5558817 Added .gitignore\r\n",
        "* 0c60086 Added the main game file.\r\n"
       ]
      }
     ],
     "prompt_number": 40
    },
    {
     "cell_type": "markdown",
     "metadata": {},
     "source": [
      "###Adding Instructions\n",
      "\n",
      "Following is the modified code.\n",
      "\n",
      "```python\n",
      "#!/usr/bin/python\n",
      "import os\n",
      "\n",
      "def main():\n",
      "    print \"Welcome to guess the number game\\n===========================\"\n",
      "    print \"\"\"\n",
      "\tInstructions:\n",
      "\t------------\n",
      "\t1) Guess a number between 0 to 100.\n",
      "\t2) The game tells you how close you are to the guess.\n",
      "\t3) It would also tell you whether you have guess higher\n",
      "\t   or lower than the previous guess.\n",
      "\t4) Continue until you guess it right!\n",
      "\tAnd you win... :-) Kudos!\n",
      "\t\"\"\"\n",
      "\n",
      "    num = 42\n",
      "    guess = \"\"\n",
      "\n",
      "    while guess != num:\n",
      "        guess = int(raw_input(\"Take a guess: \"))\n",
      "        if guess < num:\n",
      "            print \"Guess higher next time\\n\"\n",
      "        elif guess > num:\n",
      "            print \"Guess lower next time\\n\"\n",
      "    print \"CONGRATULATIONS!\"\n",
      "\n",
      "main()\n",
      "```"
     ]
    },
    {
     "cell_type": "code",
     "collapsed": false,
     "input": [
      "! git add game.py && git commit -m \"Added instructions on how to play the game.\""
     ],
     "language": "python",
     "metadata": {},
     "outputs": [
      {
       "output_type": "stream",
       "stream": "stdout",
       "text": [
        "[feature-instructions f2a0b32] Added instructions on how to play the game.\r\n",
        " 1 file changed, 11 insertions(+), 1 deletion(-)\r\n"
       ]
      }
     ],
     "prompt_number": 42
    },
    {
     "cell_type": "code",
     "collapsed": false,
     "input": [
      "! git log --oneline --decorate --all --graph"
     ],
     "language": "python",
     "metadata": {},
     "outputs": [
      {
       "output_type": "stream",
       "stream": "stdout",
       "text": [
        "* f2a0b32 (HEAD, feature-instructions) Added instructions on how to play the game.\r\n",
        "| *   63716cf (dev) Merging feature-pretty_interface into dev\r\n",
        "| |\\  \r\n",
        "| | * 4da44b9 (feature-pretty_interface) Improved the user interface.\r\n",
        "| |/  \r\n",
        "|/|   \r\n",
        "| * f4eaf93 (feature-rand_num_guess) The number to be guessed is now random.\r\n",
        "|/  \r\n",
        "* c6db876 (tag: v1.0, master) Made a working game.\r\n",
        "* 5558817 Added .gitignore\r\n",
        "* 0c60086 Added the main game file.\r\n"
       ]
      }
     ],
     "prompt_number": 43
    },
    {
     "cell_type": "markdown",
     "metadata": {},
     "source": [
      "Are you still able to understand the `graph` output?"
     ]
    },
    {
     "cell_type": "markdown",
     "metadata": {},
     "source": [
      "###Merging feature-instructions"
     ]
    },
    {
     "cell_type": "code",
     "collapsed": false,
     "input": [
      "! git checkout dev"
     ],
     "language": "python",
     "metadata": {},
     "outputs": [
      {
       "output_type": "stream",
       "stream": "stdout",
       "text": [
        "Switched to branch 'dev'\r\n"
       ]
      }
     ],
     "prompt_number": 44
    },
    {
     "cell_type": "code",
     "collapsed": false,
     "input": [
      "! git log --oneline --decorate --all --graph"
     ],
     "language": "python",
     "metadata": {},
     "outputs": [
      {
       "output_type": "stream",
       "stream": "stdout",
       "text": [
        "* f2a0b32 (feature-instructions) Added instructions on how to play the game.\r\n",
        "| *   63716cf (HEAD, dev) Merging feature-pretty_interface into dev\r\n",
        "| |\\  \r\n",
        "| | * 4da44b9 (feature-pretty_interface) Improved the user interface.\r\n",
        "| |/  \r\n",
        "|/|   \r\n",
        "| * f4eaf93 (feature-rand_num_guess) The number to be guessed is now random.\r\n",
        "|/  \r\n",
        "* c6db876 (tag: v1.0, master) Made a working game.\r\n",
        "* 5558817 Added .gitignore\r\n",
        "* 0c60086 Added the main game file.\r\n"
       ]
      }
     ],
     "prompt_number": 45
    },
    {
     "cell_type": "code",
     "collapsed": false,
     "input": [
      "! git diff dev feature-instructions"
     ],
     "language": "python",
     "metadata": {},
     "outputs": [
      {
       "output_type": "stream",
       "stream": "stdout",
       "text": [
        "diff --git a/game.py b/game.py\r\n",
        "index 56d366d..c99bd80 100644\r\n",
        "--- a/game.py\r\n",
        "+++ b/game.py\r\n",
        "@@ -1,12 +1,20 @@\r\n",
        " #!/usr/bin/python\r\n",
        " import os\r\n",
        "-import random\r\n",
        " \r\n",
        " def main():\r\n",
        "-    print \"Welcome to guess the number\\n===========================\"\r\n",
        "-    print \"\\nI'm thinking of a number, you have to guess what it is.\\n\"\r\n",
        "+    print \"Welcome to guess the number game\\n===========================\"\r\n",
        "+    print \"\"\"\r\n",
        "+    Instructions:\r\n",
        "+    ------------\r\n",
        "+    1) Guess a number between 0 to 100.\r\n",
        "+    2) The game tells you how close you are to the guess.\r\n",
        "+    3) It would also tell you whether you have guess higher\r\n",
        "+       or lower than the previous guess.\r\n",
        "+    4) Continue until you guess it right!\r\n",
        "+    And you win... :-) Kudos!\r\n",
        "+    \"\"\"\r\n",
        " \r\n",
        "-    num = random.random()*100 // 1\r\n",
        "+    num = 42\r\n",
        "     guess = \"\"\r\n",
        " \r\n",
        "     while guess != num:\r\n",
        "@@ -15,6 +23,6 @@ def main():\r\n",
        "             print \"Guess higher next time\\n\"\r\n",
        "         elif guess > num:\r\n",
        "             print \"Guess lower next time\\n\"\r\n",
        "-    print \"Voila! You got it!\\nNow you know the deep secrets of life, universe and everything...\\n\"\r\n",
        "+    print \"CONGRATULATIONS!\"\r\n",
        " \r\n",
        " main()\r\n",
        "\\ No newline at end of file\r\n"
       ]
      }
     ],
     "prompt_number": 46
    },
    {
     "cell_type": "code",
     "collapsed": false,
     "input": [
      "! git merge feature-instructions"
     ],
     "language": "python",
     "metadata": {},
     "outputs": [
      {
       "output_type": "stream",
       "stream": "stdout",
       "text": [
        "Auto-merging game.py\r\n",
        "CONFLICT (content): Merge conflict in game.py\r\n",
        "Automatic merge failed; fix conflicts and then commit the result.\r\n"
       ]
      }
     ],
     "prompt_number": 47
    },
    {
     "cell_type": "markdown",
     "metadata": {},
     "source": [
      "What is the meaning of above output?\n",
      "\n",
      "Are we able to merge?\n",
      "\n",
      "Is merge completed or rolled back? We are in which state?"
     ]
    },
    {
     "cell_type": "markdown",
     "metadata": {},
     "source": [
      "###Handling Conflicting Merges\n",
      "\n",
      "Why we got the conflict?"
     ]
    },
    {
     "cell_type": "code",
     "collapsed": false,
     "input": [
      "! git status"
     ],
     "language": "python",
     "metadata": {},
     "outputs": [
      {
       "output_type": "stream",
       "stream": "stdout",
       "text": [
        "# On branch dev\r\n",
        "# You have unmerged paths.\r\n",
        "#   (fix conflicts and run \"git commit\")\r\n",
        "#\r\n",
        "# Unmerged paths:\r\n",
        "#   (use \"git add <file>...\" to mark resolution)\r\n",
        "#\r\n",
        "#\tboth modified:      game.py\r\n",
        "#\r\n",
        "no changes added to commit (use \"git add\" and/or \"git commit -a\")\r\n"
       ]
      }
     ],
     "prompt_number": 48
    },
    {
     "cell_type": "markdown",
     "metadata": {},
     "source": [
      "####Understanding The Conflict\n",
      "\n",
      "Open `game.py` and try to understand it.\n",
      "\n",
      "```python\n",
      "#!/usr/bin/python\n",
      "import os\n",
      "import random\n",
      "\n",
      "def main():\n",
      "<<<<<<< HEAD\n",
      "    print \"Welcome to guess the number\\n===========================\"\n",
      "    print \"\\nI'm thinking of a number, you have to guess what it is.\\n\"\n",
      "=======\n",
      "    print \"Welcome to guess the number game\\n===========================\"\n",
      "    print \"\"\"\n",
      "\tInstructions:\n",
      "\t------------\n",
      "\t1) Guess a number between 0 to 100.\n",
      "\t2) The game tells you how close you are to the guess.\n",
      "\t3) It would also tell you whether you have guess higher\n",
      "\t   or lower than the previous guess.\n",
      "\t4) Continue until you guess it right!\n",
      "\tAnd you win... :-) Kudos!\n",
      "\t\"\"\"\n",
      ">>>>>>> feature-instructions\n",
      "\n",
      "    num = random.random()*100 // 1\n",
      "    guess = \"\"\n",
      "\n",
      "    while guess != num:\n",
      "        guess = int(raw_input(\"Take a guess: \"))\n",
      "        if guess < num:\n",
      "            print \"Guess higher next time\\n\"\n",
      "        elif guess > num:\n",
      "            print \"Guess lower next time\\n\"\n",
      "    print \"Voila! You got it!\\nNow you know the deep secrets of life, universe and everything...\\n\"\n",
      "\n",
      "main()\n",
      "\n",
      "```\n",
      "\n",
      "What is the meaning of different symbols (`<<<<<<<, =======`)?\n",
      "\n",
      "Are you able to undestand the above representation?"
     ]
    },
    {
     "cell_type": "code",
     "collapsed": false,
     "input": [
      "! cat game.py"
     ],
     "language": "python",
     "metadata": {},
     "outputs": [
      {
       "output_type": "stream",
       "stream": "stdout",
       "text": [
        "#!/usr/bin/python\r\n",
        "import os\r\n",
        "import random\r\n",
        "\r\n",
        "def main():\r\n",
        "<<<<<<< HEAD\r\n",
        "    print \"Welcome to guess the number\\n===========================\"\r\n",
        "    print \"\\nI'm thinking of a number, you have to guess what it is.\\n\"\r\n",
        "=======\r\n",
        "    print \"Welcome to guess the number game\\n===========================\"\r\n",
        "    print \"\"\"\r\n",
        "    Instructions:\r\n",
        "    ------------\r\n",
        "    1) Guess a number between 0 to 100.\r\n",
        "    2) The game tells you how close you are to the guess.\r\n",
        "    3) It would also tell you whether you have guess higher\r\n",
        "       or lower than the previous guess.\r\n",
        "    4) Continue until you guess it right!\r\n",
        "    And you win... :-) Kudos!\r\n",
        "    \"\"\"\r\n",
        ">>>>>>> feature-instructions\r\n",
        "\r\n",
        "    num = random.random()*100 // 1\r\n",
        "    guess = \"\"\r\n",
        "\r\n",
        "    while guess != num:\r\n",
        "        guess = int(raw_input(\"Take a guess: \"))\r\n",
        "        if guess < num:\r\n",
        "            print \"Guess higher next time\\n\"\r\n",
        "        elif guess > num:\r\n",
        "            print \"Guess lower next time\\n\"\r\n",
        "    print \"Voila! You got it!\\nNow you know the deep secrets of life, universe and everything...\\n\"\r\n",
        "\r\n",
        "main()"
       ]
      }
     ],
     "prompt_number": 49
    },
    {
     "cell_type": "markdown",
     "metadata": {},
     "source": [
      "####Resolving The Conflict\n",
      "\n",
      "Modify the code to resolve the conflict.\n",
      "\n",
      "```python\n",
      "#!/usr/bin/python\n",
      "import os\n",
      "import random\n",
      "\n",
      "def main():\n",
      "    print \"Welcome to guess the number game\\n===========================\"\n",
      "    print \"\"\"\n",
      "\tInstructions:\n",
      "\t------------\n",
      "\t1) Guess a number between 0 to 100.\n",
      "\t2) The game tells you how close you are to the guess.\n",
      "\t3) It would also tell you whether you have guess higher\n",
      "\t   or lower than the previous guess.\n",
      "\t4) Continue until you guess it right!\n",
      "\tAnd you win... :-) Kudos!\n",
      "\t\"\"\"\n",
      "\n",
      "    num = random.random()*100 // 1\n",
      "    guess = \"\"\n",
      "\n",
      "    while guess != num:\n",
      "        guess = int(raw_input(\"Take a guess: \"))\n",
      "        if guess < num:\n",
      "            print \"Guess higher next time\\n\"\n",
      "        elif guess > num:\n",
      "            print \"Guess lower next time\\n\"\n",
      "    print \"Voila! You got it!\\nNow you know the deep secrets of life, universe and everything...\\n\"\n",
      "\n",
      "main()\n",
      "```"
     ]
    },
    {
     "cell_type": "code",
     "collapsed": false,
     "input": [
      "! git add game.py"
     ],
     "language": "python",
     "metadata": {},
     "outputs": [],
     "prompt_number": 50
    },
    {
     "cell_type": "code",
     "collapsed": false,
     "input": [
      "! git status"
     ],
     "language": "python",
     "metadata": {},
     "outputs": [
      {
       "output_type": "stream",
       "stream": "stdout",
       "text": [
        "# On branch dev\r\n",
        "# All conflicts fixed but you are still merging.\r\n",
        "#   (use \"git commit\" to conclude merge)\r\n",
        "#\r\n",
        "# Changes to be committed:\r\n",
        "#\r\n",
        "#\tmodified:   game.py\r\n",
        "#\r\n"
       ]
      }
     ],
     "prompt_number": 51
    },
    {
     "cell_type": "code",
     "collapsed": false,
     "input": [
      "! git commit -m \"Merged feature-instructions into dev.\""
     ],
     "language": "python",
     "metadata": {},
     "outputs": [
      {
       "output_type": "stream",
       "stream": "stdout",
       "text": [
        "[dev 87f6962] Merged feature-instructions into dev.\r\n"
       ]
      }
     ],
     "prompt_number": 52
    },
    {
     "cell_type": "markdown",
     "metadata": {},
     "source": [
      "What should be the commit message format?"
     ]
    },
    {
     "cell_type": "code",
     "collapsed": false,
     "input": [
      "! git log --oneline --decorate --all --graph"
     ],
     "language": "python",
     "metadata": {},
     "outputs": [
      {
       "output_type": "stream",
       "stream": "stdout",
       "text": [
        "*   87f6962 (HEAD, dev) Merged feature-instructions into dev.\r\n",
        "|\\  \r\n",
        "| * f2a0b32 (feature-instructions) Added instructions on how to play the game.\r\n",
        "* |   63716cf Merging feature-pretty_interface into dev\r\n",
        "|\\ \\  \r\n",
        "| * | 4da44b9 (feature-pretty_interface) Improved the user interface.\r\n",
        "| |/  \r\n",
        "* | f4eaf93 (feature-rand_num_guess) The number to be guessed is now random.\r\n",
        "|/  \r\n",
        "* c6db876 (tag: v1.0, master) Made a working game.\r\n",
        "* 5558817 Added .gitignore\r\n",
        "* 0c60086 Added the main game file.\r\n"
       ]
      }
     ],
     "prompt_number": 53
    },
    {
     "cell_type": "markdown",
     "metadata": {},
     "source": [
      "Are you able to understand the output `graph`?\n",
      "\n",
      "Can we always merge?"
     ]
    },
    {
     "cell_type": "markdown",
     "metadata": {},
     "source": [
      "#Going Remote\n",
      "\n",
      "All the previous changes are made by us locally. But this is not the essence of open source developement or collaborative developement.\n",
      "\n",
      "Now we got a new developer, named knoxxs, who want to work on our game.\n",
      "\n",
      "Following work is done by knoxxs on his own system."
     ]
    },
    {
     "cell_type": "markdown",
     "metadata": {},
     "source": [
      "##Clonning a Repo"
     ]
    },
    {
     "cell_type": "code",
     "collapsed": false,
     "input": [
      "pwd"
     ],
     "language": "python",
     "metadata": {},
     "outputs": [
      {
       "metadata": {},
       "output_type": "pyout",
       "prompt_number": 3,
       "text": [
        "u'/home/me/Projects/numGame/num_game'"
       ]
      }
     ],
     "prompt_number": 3
    },
    {
     "cell_type": "code",
     "collapsed": false,
     "input": [
      "cd .."
     ],
     "language": "python",
     "metadata": {},
     "outputs": [
      {
       "output_type": "stream",
       "stream": "stdout",
       "text": [
        "/home/me/Projects/numGame\n"
       ]
      }
     ],
     "prompt_number": 4
    },
    {
     "cell_type": "markdown",
     "metadata": {},
     "source": [
      "Now we need to copy the source code of the game developed till now. We are going to use the `git clone` command to do so. "
     ]
    },
    {
     "cell_type": "code",
     "collapsed": false,
     "input": [
      "! git clone ./num_game/ num_game_knoxxs"
     ],
     "language": "python",
     "metadata": {},
     "outputs": [
      {
       "output_type": "stream",
       "stream": "stdout",
       "text": [
        "Cloning into 'num_game_knoxxs'...\r\n"
       ]
      },
      {
       "output_type": "stream",
       "stream": "stdout",
       "text": [
        "done.\r\n"
       ]
      }
     ],
     "prompt_number": 6
    },
    {
     "cell_type": "markdown",
     "metadata": {},
     "source": [
      "For successful completion of the above command what we need?\n",
      "\n",
      "Do we have access to `num_game (original)`?\n",
      "\n",
      "Which workflow this shows? _Hint: Organisation_"
     ]
    },
    {
     "cell_type": "code",
     "collapsed": false,
     "input": [
      "cd num_game_knoxxs/"
     ],
     "language": "python",
     "metadata": {},
     "outputs": [
      {
       "output_type": "stream",
       "stream": "stdout",
       "text": [
        "/home/me/Projects/numGame/num_game_knoxxs\n"
       ]
      }
     ],
     "prompt_number": 7
    },
    {
     "cell_type": "code",
     "collapsed": false,
     "input": [
      "ls"
     ],
     "language": "python",
     "metadata": {},
     "outputs": [
      {
       "output_type": "stream",
       "stream": "stdout",
       "text": [
        "game.py\r\n"
       ]
      }
     ],
     "prompt_number": 8
    },
    {
     "cell_type": "code",
     "collapsed": false,
     "input": [
      "!git status"
     ],
     "language": "python",
     "metadata": {},
     "outputs": [
      {
       "output_type": "stream",
       "stream": "stdout",
       "text": [
        "# On branch dev\r\n",
        "nothing to commit, working directory clean\r\n"
       ]
      }
     ],
     "prompt_number": 10
    },
    {
     "cell_type": "markdown",
     "metadata": {},
     "source": [
      "First change the repository configration to reflect the ownership of knoxxs."
     ]
    },
    {
     "cell_type": "code",
     "collapsed": false,
     "input": [
      "! git config user.name \"Abhishek Gupta (knoxxs)\" && git config user.email \"knoxxs@email.com\" && git config --list --local"
     ],
     "language": "python",
     "metadata": {},
     "outputs": [
      {
       "output_type": "stream",
       "stream": "stdout",
       "text": [
        "core.repositoryformatversion=0\r\n",
        "core.filemode=true\r\n",
        "core.bare=false\r\n",
        "core.logallrefupdates=true\r\n",
        "remote.origin.url=/home/me/Projects/numGame/./num_game/\r\n",
        "remote.origin.fetch=+refs/heads/*:refs/remotes/origin/*\r\n",
        "branch.dev.remote=origin\r\n",
        "branch.dev.merge=refs/heads/dev\r\n",
        "user.name=Abhishek Gupta (knoxxs)\r\n",
        "user.email=knoxxs@email.com\r\n"
       ]
      }
     ],
     "prompt_number": 12
    },
    {
     "cell_type": "code",
     "collapsed": false,
     "input": [
      "! git log --oneline --decorate --all --graph"
     ],
     "language": "python",
     "metadata": {},
     "outputs": [
      {
       "output_type": "stream",
       "stream": "stdout",
       "text": [
        "*   87f6962 (HEAD, origin/dev, origin/HEAD, dev) Merged feature-instructions into dev.\r\n",
        "|\\  \r\n",
        "| * f2a0b32 (origin/feature-instructions) Added instructions on how to play the game.\r\n",
        "* |   63716cf Merging feature-pretty_interface into dev\r\n",
        "|\\ \\  \r\n",
        "| * | 4da44b9 (origin/feature-pretty_interface) Improved the user interface.\r\n",
        "| |/  \r\n",
        "* | f4eaf93 (origin/feature-rand_num_guess) The number to be guessed is now random.\r\n",
        "|/  \r\n",
        "* c6db876 (tag: v1.0, origin/master) Made a working game.\r\n",
        "* 5558817 Added .gitignore\r\n",
        "* 0c60086 Added the main game file.\r\n"
       ]
      }
     ],
     "prompt_number": 13
    },
    {
     "cell_type": "code",
     "collapsed": false,
     "input": [
      "! git branch -a"
     ],
     "language": "python",
     "metadata": {},
     "outputs": [
      {
       "output_type": "stream",
       "stream": "stdout",
       "text": [
        "* dev\r\n",
        "  remotes/origin/HEAD -> origin/dev\r\n",
        "  remotes/origin/dev\r\n",
        "  remotes/origin/feature-instructions\r\n",
        "  remotes/origin/feature-pretty_interface\r\n",
        "  remotes/origin/feature-rand_num_guess\r\n",
        "  remotes/origin/master\r\n"
       ]
      }
     ],
     "prompt_number": 14
    },
    {
     "cell_type": "code",
     "collapsed": false,
     "input": [
      "! git checkout -b master --track origin/master"
     ],
     "language": "python",
     "metadata": {},
     "outputs": [
      {
       "output_type": "stream",
       "stream": "stdout",
       "text": [
        "Branch master set up to track remote branch master from origin.\r\n",
        "Switched to a new branch 'master'\r\n"
       ]
      }
     ],
     "prompt_number": 15
    },
    {
     "cell_type": "code",
     "collapsed": false,
     "input": [
      "! git branch -a && git checkout dev"
     ],
     "language": "python",
     "metadata": {},
     "outputs": [
      {
       "output_type": "stream",
       "stream": "stdout",
       "text": [
        "  dev\r\n",
        "* master\r\n",
        "  remotes/origin/HEAD -> origin/dev\r\n",
        "  remotes/origin/dev\r\n",
        "  remotes/origin/feature-instructions\r\n",
        "  remotes/origin/feature-pretty_interface\r\n",
        "  remotes/origin/feature-rand_num_guess\r\n",
        "  remotes/origin/master\r\n",
        "Switched to branch 'dev'\r\n"
       ]
      }
     ],
     "prompt_number": 16
    },
    {
     "cell_type": "markdown",
     "metadata": {},
     "source": [
      "##Adding Feature4: Play Again Functionality\n",
      "\n",
      "In this feature we are going to add the functionality to play the game again after completing. So that there is no need to restart the game."
     ]
    },
    {
     "cell_type": "code",
     "collapsed": false,
     "input": [
      "! git checkout -b feature-play_again"
     ],
     "language": "python",
     "metadata": {},
     "outputs": [
      {
       "output_type": "stream",
       "stream": "stdout",
       "text": [
        "Switched to branch 'feature-play_again'\r\n"
       ]
      }
     ],
     "prompt_number": 32
    },
    {
     "cell_type": "markdown",
     "metadata": {},
     "source": [
      "Use the following code to add this feature.\n",
      "\n",
      "```python\n",
      "#!/usr/bin/python\n",
      "import os\n",
      "import random\n",
      "\n",
      "def main():\n",
      "    print \"Welcome to guess the number game\\n===========================\"\n",
      "    print \"\"\"\n",
      "    Instructions:\n",
      "    ------------\n",
      "    1) Guess a number between 0 to 100.\n",
      "    2) The game tells you how close you are to the guess.\n",
      "    3) It would also tell you whether you have guess higher\n",
      "       or lower than the previous guess.\n",
      "    4) Continue until you guess it right!\n",
      "    And you win... :-) Kudos!\n",
      "    \"\"\"\n",
      "    \n",
      "    play_again = 'y'\n",
      "    while play_again == 'y':\n",
      "        num = random.random()*100 // 1\n",
      "        guess = \"\"\n",
      "\n",
      "        while guess != num:\n",
      "            guess = int(raw_input(\"Take a guess: \"))\n",
      "            if guess < num:\n",
      "                print \"Guess higher next time\\n\"\n",
      "            elif guess > num:\n",
      "                print \"Guess lower next time\\n\"\n",
      "        print \"Voila! You got it!\\nNow you know the deep secrets of life, universe and everything...\\n\"\n",
      "    \n",
      "        play_again = raw_input(\"Wanna play again (y/n): \")\n",
      "        if play_again == 'n':\n",
      "            print \"Bye...\"\n",
      "            break\n",
      "main()\n",
      "```"
     ]
    },
    {
     "cell_type": "code",
     "collapsed": false,
     "input": [
      "! git status && git diff"
     ],
     "language": "python",
     "metadata": {},
     "outputs": [
      {
       "output_type": "stream",
       "stream": "stdout",
       "text": [
        "# On branch feature-play_again\r\n",
        "# Changes not staged for commit:\r\n",
        "#   (use \"git add <file>...\" to update what will be committed)\r\n",
        "#   (use \"git checkout -- <file>...\" to discard changes in working directory)\r\n",
        "#\r\n",
        "#\tmodified:   game.py\r\n",
        "#\r\n",
        "no changes added to commit (use \"git add\" and/or \"git commit -a\")\r\n",
        "diff --git a/game.py b/game.py\r\n",
        "index 1369a23..05f182c 100644\r\n",
        "--- a/game.py\r\n",
        "+++ b/game.py\r\n",
        "@@ -15,15 +15,21 @@ def main():\r\n",
        "     And you win... :-) Kudos!\r\n",
        "     \"\"\"\r\n",
        " \r\n",
        "-    num = random.random()*100 // 1\r\n",
        "-    guess = \"\"\r\n",
        "+    play_again = 'y'\r\n",
        "+    while play_again == 'y':\r\n",
        "+        num = random.random()*100 // 1\r\n",
        "+        guess = \"\"\r\n",
        " \r\n",
        "-    while guess != num:\r\n",
        "-        guess = int(raw_input(\"Take a guess: \"))\r\n",
        "-        if guess < num:\r\n",
        "-            print \"Guess higher next time\\n\"\r\n",
        "-        elif guess > num:\r\n",
        "-            print \"Guess lower next time\\n\"\r\n",
        "-    print \"Voila! You got it!\\nNow you know the deep secrets of life, universe and everything...\\n\"\r\n",
        "+        while guess != num:\r\n",
        "+            guess = int(raw_input(\"Take a guess: \"))\r\n",
        "+            if guess < num:\r\n",
        "+                print \"Guess higher next time\\n\"\r\n",
        "+            elif guess > num:\r\n",
        "+                print \"Guess lower next time\\n\"\r\n",
        "+        print \"Voila! You got it!\\nNow you know the deep secrets of life, universe and everything...\\n\"\r\n",
        " \r\n",
        "+        play_again = raw_input(\"Wanna play again (y/n): \")\r\n",
        "+        if play_again == 'n':\r\n",
        "+            print \"Bye...\"\r\n",
        "+            break\r\n",
        " main()\r\n",
        "\\ No newline at end of file\r\n"
       ]
      }
     ],
     "prompt_number": 33
    },
    {
     "cell_type": "code",
     "collapsed": false,
     "input": [
      "! git add game.py && git commit -m \"Add play again feature\""
     ],
     "language": "python",
     "metadata": {},
     "outputs": [
      {
       "output_type": "stream",
       "stream": "stdout",
       "text": [
        "[feature-play_again 6dcee29] Add play again feature\r\n",
        " 1 file changed, 15 insertions(+), 9 deletions(-)\r\n"
       ]
      }
     ],
     "prompt_number": 34
    },
    {
     "cell_type": "markdown",
     "metadata": {},
     "source": [
      "###Merging feature-play_again"
     ]
    },
    {
     "cell_type": "code",
     "collapsed": false,
     "input": [
      "! git checkout dev"
     ],
     "language": "python",
     "metadata": {},
     "outputs": [
      {
       "output_type": "stream",
       "stream": "stdout",
       "text": [
        "Switched to branch 'dev'\r\n"
       ]
      }
     ],
     "prompt_number": 35
    },
    {
     "cell_type": "code",
     "collapsed": false,
     "input": [
      "! git merge feature-play_again"
     ],
     "language": "python",
     "metadata": {},
     "outputs": [
      {
       "output_type": "stream",
       "stream": "stdout",
       "text": [
        "Updating 87f6962..6dcee29\r\n",
        "Fast-forward\r\n"
       ]
      },
      {
       "output_type": "stream",
       "stream": "stdout",
       "text": [
        " game.py | 24 +++++++++++++++---------\r\n",
        " 1 file changed, 15 insertions(+), 9 deletions(-)\r\n"
       ]
      }
     ],
     "prompt_number": 36
    },
    {
     "cell_type": "code",
     "collapsed": false,
     "input": [
      "! git log --oneline --decorate --all --graph"
     ],
     "language": "python",
     "metadata": {},
     "outputs": [
      {
       "output_type": "stream",
       "stream": "stdout",
       "text": [
        "* 6dcee29 (HEAD, feature-play_again, dev) Add play again feature\r\n",
        "*   87f6962 (origin/dev, origin/HEAD) Merged feature-instructions into dev.\r\n",
        "|\\  \r\n",
        "| * f2a0b32 (origin/feature-instructions) Added instructions on how to play the game.\r\n",
        "* |   63716cf Merging feature-pretty_interface into dev\r\n",
        "|\\ \\  \r\n",
        "| * | 4da44b9 (origin/feature-pretty_interface) Improved the user interface.\r\n",
        "| |/  \r\n",
        "* | f4eaf93 (origin/feature-rand_num_guess) The number to be guessed is now random.\r\n",
        "|/  \r\n",
        "* c6db876 (tag: v1.0, origin/master, master) Made a working game.\r\n",
        "* 5558817 Added .gitignore\r\n",
        "* 0c60086 Added the main game file.\r\n"
       ]
      }
     ],
     "prompt_number": 37
    },
    {
     "cell_type": "markdown",
     "metadata": {},
     "source": [
      "##Pushing Code to Remote\n",
      "\n",
      "We have change the code to include the play again feature. Now we want to push (give) this code to the original repo.\n",
      "\n",
      "What is the meaning of `original repo` here?\n",
      "\n",
      "What makes a repo original? _Hint: Recall git philosophy_"
     ]
    },
    {
     "cell_type": "code",
     "collapsed": false,
     "input": [
      "! git remote -v"
     ],
     "language": "python",
     "metadata": {},
     "outputs": [
      {
       "output_type": "stream",
       "stream": "stdout",
       "text": [
        "origin\t/home/me/Projects/numGame/./num_game/ (fetch)\r\n",
        "origin\t/home/me/Projects/numGame/./num_game/ (push)\r\n"
       ]
      }
     ],
     "prompt_number": 38
    },
    {
     "cell_type": "markdown",
     "metadata": {},
     "source": [
      "What does above command show?\n",
      "\n",
      "Why there are two links?"
     ]
    },
    {
     "cell_type": "code",
     "collapsed": false,
     "input": [
      "!git branch -a"
     ],
     "language": "python",
     "metadata": {},
     "outputs": [
      {
       "output_type": "stream",
       "stream": "stdout",
       "text": [
        "* dev\r\n",
        "  feature-play_again\r\n",
        "  master\r\n",
        "  remotes/origin/HEAD -> origin/dev\r\n",
        "  remotes/origin/dev\r\n",
        "  remotes/origin/feature-instructions\r\n",
        "  remotes/origin/feature-pretty_interface\r\n",
        "  remotes/origin/feature-rand_num_guess\r\n",
        "  remotes/origin/master\r\n"
       ]
      }
     ],
     "prompt_number": 39
    },
    {
     "cell_type": "code",
     "collapsed": false,
     "input": [
      "! git push origin dev"
     ],
     "language": "python",
     "metadata": {},
     "outputs": [
      {
       "output_type": "stream",
       "stream": "stdout",
       "text": [
        "Counting objects: 5, done.\r\n",
        "Delta compression using up to 4 threads.\r\n",
        "Compressing objects:  33% (1/3)   \r",
        "Compressing objects:  66% (2/3)   \r",
        "Compressing objects: 100% (3/3)   \r",
        "Compressing objects: 100% (3/3), done.\r\n",
        "Writing objects:  33% (1/3)   \r",
        "Writing objects:  66% (2/3)   \r",
        "Writing objects: 100% (3/3)   \r",
        "Writing objects: 100% (3/3), 480 bytes, done.\r\n",
        "Total 3 (delta 1), reused 0 (delta 0)\r\n"
       ]
      },
      {
       "output_type": "stream",
       "stream": "stdout",
       "text": [
        "remote: error: refusing to update checked out branch: refs/heads/dev\u001b[K\r\n",
        "remote: error: By default, updating the current branch in a non-bare repository\u001b[K\r\n",
        "remote: error: is denied, because it will make the index and work tree inconsistent\u001b[K\r\n",
        "remote: error: with what you pushed, and will require 'git reset --hard' to match\u001b[K\r\n",
        "remote: error: the work tree to HEAD.\u001b[K\r\n",
        "remote: error: \u001b[K\r\n",
        "remote: error: You can set 'receive.denyCurrentBranch' configuration variable to\u001b[K\r\n",
        "remote: error: 'ignore' or 'warn' in the remote repository to allow pushing into\u001b[K\r\n",
        "remote: error: its current branch; however, this is not recommended unless you\u001b[K\r\n",
        "remote: error: arranged to update its work tree to match what you pushed in some\u001b[K\r\n",
        "remote: error: other way.\u001b[K\r\n",
        "remote: error: \u001b[K\r\n",
        "remote: error: To squelch this message and still keep the default behaviour, set\u001b[K\r\n",
        "remote: error: 'receive.denyCurrentBranch' configuration variable to 'refuse'.\u001b[K\r\n",
        "To /home/me/Projects/numGame/./num_game/\r\n",
        " ! [remote rejected] dev -> dev (branch is currently checked out)\r\n",
        "error: failed to push some refs to '/home/me/Projects/numGame/./num_game/'\r\n"
       ]
      }
     ],
     "prompt_number": 40
    },
    {
     "cell_type": "markdown",
     "metadata": {},
     "source": [
      "What the above command do?\n",
      "\n",
      "How does above command works?\n",
      "\n",
      "Why we are getting an error?\n",
      "\n",
      "Would it be good if we don't get any error?\n",
      "\n",
      "What is an `bare repo`?"
     ]
    },
    {
     "cell_type": "markdown",
     "metadata": {},
     "source": [
      "##Creating a Bare Repo\n",
      "\n",
      "Who would create the bare repo?\n",
      "\n",
      "Where is bare repo located?"
     ]
    },
    {
     "cell_type": "code",
     "collapsed": false,
     "input": [
      "cd .."
     ],
     "language": "python",
     "metadata": {},
     "outputs": [
      {
       "output_type": "stream",
       "stream": "stdout",
       "text": [
        "/home/me/Projects/numGame\n"
       ]
      }
     ],
     "prompt_number": 48
    },
    {
     "cell_type": "code",
     "collapsed": false,
     "input": [
      "ls"
     ],
     "language": "python",
     "metadata": {},
     "outputs": [
      {
       "output_type": "stream",
       "stream": "stdout",
       "text": [
        "\u001b[0m\u001b[01;34mknoxxs\u001b[0m/  Number Game.ipynb  \u001b[01;34mnum_game\u001b[0m/  \u001b[01;34mnum_game.git\u001b[0m/  \u001b[01;34mnum_game_knoxxs\u001b[0m/\r\n"
       ]
      }
     ],
     "prompt_number": 49
    },
    {
     "cell_type": "code",
     "collapsed": false,
     "input": [
      "! git init --bare num_game.git"
     ],
     "language": "python",
     "metadata": {},
     "outputs": [
      {
       "output_type": "stream",
       "stream": "stdout",
       "text": [
        "Initialized empty Git repository in /home/me/Projects/numGame/num_game.git/\r\n"
       ]
      }
     ],
     "prompt_number": 43
    },
    {
     "cell_type": "code",
     "collapsed": false,
     "input": [
      "ls num_game.git/"
     ],
     "language": "python",
     "metadata": {},
     "outputs": [
      {
       "output_type": "stream",
       "stream": "stdout",
       "text": [
        "\u001b[0m\u001b[01;34mbranches\u001b[0m/  config  description  HEAD  \u001b[01;34mhooks\u001b[0m/  \u001b[01;34minfo\u001b[0m/  \u001b[01;34mobjects\u001b[0m/  \u001b[01;34mrefs\u001b[0m/\r\n"
       ]
      }
     ],
     "prompt_number": 50
    },
    {
     "cell_type": "markdown",
     "metadata": {},
     "source": [
      "##Pushing Code to a Bare Repo\n",
      "\n",
      "Following is done by knoxxs."
     ]
    },
    {
     "cell_type": "code",
     "collapsed": false,
     "input": [
      "cd num_game_knoxxs/"
     ],
     "language": "python",
     "metadata": {},
     "outputs": [
      {
       "output_type": "stream",
       "stream": "stdout",
       "text": [
        "/home/me/Projects/numGame/num_game_knoxxs\n"
       ]
      }
     ],
     "prompt_number": 51
    },
    {
     "cell_type": "markdown",
     "metadata": {},
     "source": [
      "Now add a remote which is pointing to the bare repo."
     ]
    },
    {
     "cell_type": "code",
     "collapsed": false,
     "input": [
      "! git remote add main ../num_game.git/"
     ],
     "language": "python",
     "metadata": {},
     "outputs": [],
     "prompt_number": 52
    },
    {
     "cell_type": "code",
     "collapsed": false,
     "input": [
      "! git remote -v"
     ],
     "language": "python",
     "metadata": {},
     "outputs": [
      {
       "output_type": "stream",
       "stream": "stdout",
       "text": [
        "main\t../num_game.git/ (fetch)\r\n",
        "main\t../num_game.git/ (push)\r\n",
        "origin\t/home/me/Projects/numGame/./num_game/ (fetch)\r\n",
        "origin\t/home/me/Projects/numGame/./num_game/ (push)\r\n"
       ]
      }
     ],
     "prompt_number": 53
    },
    {
     "cell_type": "code",
     "collapsed": false,
     "input": [
      "! git push main dev"
     ],
     "language": "python",
     "metadata": {},
     "outputs": [
      {
       "output_type": "stream",
       "stream": "stdout",
       "text": [
        "Counting objects: 27, done.\r\n",
        "Delta compression using up to 4 threads.\r\n",
        "Compressing objects:   4% (1/24)   \r",
        "Compressing objects:   8% (2/24)   \r",
        "Compressing objects:  12% (3/24)   \r",
        "Compressing objects:  16% (4/24)   \r",
        "Compressing objects:  20% (5/24)   \r",
        "Compressing objects:  25% (6/24)   \r",
        "Compressing objects:  29% (7/24)   \r",
        "Compressing objects:  33% (8/24)   \r",
        "Compressing objects:  37% (9/24)   \r",
        "Compressing objects:  41% (10/24)   \r",
        "Compressing objects:  45% (11/24)   \r",
        "Compressing objects:  50% (12/24)   \r",
        "Compressing objects:  54% (13/24)   \r",
        "Compressing objects:  58% (14/24)   \r",
        "Compressing objects:  62% (15/24)   \r",
        "Compressing objects:  66% (16/24)   \r",
        "Compressing objects:  70% (17/24)   \r",
        "Compressing objects:  75% (18/24)   \r",
        "Compressing objects:  79% (19/24)   \r",
        "Compressing objects:  83% (20/24)   \r",
        "Compressing objects:  87% (21/24)   \r",
        "Compressing objects:  91% (22/24)   \r",
        "Compressing objects:  95% (23/24)   \r",
        "Compressing objects: 100% (24/24)   \r",
        "Compressing objects: 100% (24/24), done.\r\n",
        "Writing objects:   3% (1/27)   \r",
        "Writing objects:   7% (2/27)   \r",
        "Writing objects:  11% (3/27)   \r",
        "Writing objects:  14% (4/27)   \r",
        "Writing objects:  18% (5/27)   \r",
        "Writing objects:  22% (6/27)   \r",
        "Writing objects:  25% (7/27)   \r",
        "Writing objects:  29% (8/27)   \r",
        "Writing objects:  33% (9/27)   \r",
        "Writing objects:  37% (10/27)   \r",
        "Writing objects:  40% (11/27)   \r",
        "Writing objects:  44% (12/27)   \r",
        "Writing objects:  48% (13/27)   \r",
        "Writing objects:  51% (14/27)   \r",
        "Writing objects:  55% (15/27)   \r",
        "Writing objects:  59% (16/27)   \r",
        "Writing objects:  62% (17/27)   \r",
        "Writing objects:  66% (18/27)   \r",
        "Writing objects:  70% (19/27)   \r",
        "Writing objects:  74% (20/27)   \r",
        "Writing objects:  77% (21/27)   \r",
        "Writing objects:  81% (22/27)   \r",
        "Writing objects:  85% (23/27)   \r",
        "Writing objects:  88% (24/27)   \r",
        "Writing objects:  92% (25/27)   \r",
        "Writing objects:  96% (26/27)   \r",
        "Writing objects: 100% (27/27)   \r",
        "Writing objects: 100% (27/27), 2.96 KiB, done.\r\n",
        "Total 27 (delta 8), reused 0 (delta 0)\r\n"
       ]
      },
      {
       "output_type": "stream",
       "stream": "stdout",
       "text": [
        "To ../num_game.git/\r\n",
        " * [new branch]      dev -> dev\r\n"
       ]
      }
     ],
     "prompt_number": 54
    },
    {
     "cell_type": "markdown",
     "metadata": {},
     "source": [
      "What is the meaning of above command?"
     ]
    },
    {
     "cell_type": "markdown",
     "metadata": {},
     "source": [
      "##Pulling Changes From a Remote (Bare Repo)\n",
      "\n",
      "Following is done by the first user (mitthu)"
     ]
    },
    {
     "cell_type": "code",
     "collapsed": false,
     "input": [
      "cd ../num_game/"
     ],
     "language": "python",
     "metadata": {},
     "outputs": [
      {
       "output_type": "stream",
       "stream": "stdout",
       "text": [
        "/home/me/Projects/numGame/num_game\n"
       ]
      }
     ],
     "prompt_number": 55
    },
    {
     "cell_type": "code",
     "collapsed": false,
     "input": [
      "! git remote add main ../num_game.git/"
     ],
     "language": "python",
     "metadata": {},
     "outputs": [],
     "prompt_number": 57
    },
    {
     "cell_type": "code",
     "collapsed": false,
     "input": [
      "! git remote -v"
     ],
     "language": "python",
     "metadata": {},
     "outputs": [
      {
       "output_type": "stream",
       "stream": "stdout",
       "text": [
        "main\t../num_game.git/ (fetch)\r\n",
        "main\t../num_game.git/ (push)\r\n"
       ]
      }
     ],
     "prompt_number": 30
    },
    {
     "cell_type": "code",
     "collapsed": false,
     "input": [
      "! git log --oneline --decorate --all --graph"
     ],
     "language": "python",
     "metadata": {},
     "outputs": [
      {
       "output_type": "stream",
       "stream": "stdout",
       "text": [
        "*   87f6962 (HEAD, dev) Merged feature-instructions into dev.\r\n",
        "|\\  \r\n",
        "| * f2a0b32 (feature-instructions) Added instructions on how to play the game.\r\n",
        "* |   63716cf Merging feature-pretty_interface into dev\r\n",
        "|\\ \\  \r\n",
        "| * | 4da44b9 (feature-pretty_interface) Improved the user interface.\r\n",
        "| |/  \r\n",
        "* | f4eaf93 (feature-rand_num_guess) The number to be guessed is now random.\r\n",
        "|/  \r\n",
        "* c6db876 (tag: v1.0, master) Made a working game.\r\n",
        "* 5558817 Added .gitignore\r\n",
        "* 0c60086 Added the main game file.\r\n"
       ]
      }
     ],
     "prompt_number": 32
    },
    {
     "cell_type": "code",
     "collapsed": false,
     "input": [
      "! git pull main dev"
     ],
     "language": "python",
     "metadata": {},
     "outputs": [
      {
       "output_type": "stream",
       "stream": "stdout",
       "text": [
        "From ../num_game\r\n",
        " * branch            dev        -> FETCH_HEAD\r\n",
        "Updating 87f6962..6dcee29\r\n",
        "Fast-forward\r\n",
        " game.py | 24 +++++++++++++++---------\r\n",
        " 1 file changed, 15 insertions(+), 9 deletions(-)\r\n"
       ]
      }
     ],
     "prompt_number": 36
    },
    {
     "cell_type": "markdown",
     "metadata": {},
     "source": [
      "What is the `main` of above command?"
     ]
    },
    {
     "cell_type": "code",
     "collapsed": false,
     "input": [
      "! git branch -a"
     ],
     "language": "python",
     "metadata": {},
     "outputs": [
      {
       "output_type": "stream",
       "stream": "stdout",
       "text": [
        "* dev\r\n",
        "  feature-instructions\r\n",
        "  feature-pretty_interface\r\n",
        "  feature-rand_num_guess\r\n",
        "  master\r\n"
       ]
      }
     ],
     "prompt_number": 23
    },
    {
     "cell_type": "code",
     "collapsed": false,
     "input": [
      "! git branch -av"
     ],
     "language": "python",
     "metadata": {},
     "outputs": [
      {
       "output_type": "stream",
       "stream": "stdout",
       "text": [
        "* dev                      6dcee29 Add play again feature\r\n",
        "  feature-instructions     f2a0b32 Added instructions on how to play the game.\r\n",
        "  feature-pretty_interface 4da44b9 Improved the user interface.\r\n",
        "  feature-rand_num_guess   f4eaf93 The number to be guessed is now random.\r\n",
        "  master                   c6db876 Made a working game.\r\n"
       ]
      }
     ],
     "prompt_number": 24
    },
    {
     "cell_type": "code",
     "collapsed": false,
     "input": [
      "! git branch -avv"
     ],
     "language": "python",
     "metadata": {},
     "outputs": [
      {
       "output_type": "stream",
       "stream": "stdout",
       "text": [
        "* dev                      6dcee29 Add play again feature\r\n",
        "  feature-instructions     f2a0b32 Added instructions on how to play the game.\r\n",
        "  feature-pretty_interface 4da44b9 Improved the user interface.\r\n",
        "  feature-rand_num_guess   f4eaf93 The number to be guessed is now random.\r\n",
        "  master                   c6db876 Made a working game.\r\n"
       ]
      }
     ],
     "prompt_number": 37
    },
    {
     "cell_type": "markdown",
     "metadata": {},
     "source": [
      "What is the difference between `-a & -av & -avv`?"
     ]
    },
    {
     "cell_type": "code",
     "collapsed": false,
     "input": [
      "! git branch --set-upstream-to main/dev"
     ],
     "language": "python",
     "metadata": {},
     "outputs": [
      {
       "output_type": "stream",
       "stream": "stdout",
       "text": [
        "fatal: Not a valid object name: 'main/dev'.\r\n"
       ]
      }
     ],
     "prompt_number": 12
    },
    {
     "cell_type": "markdown",
     "metadata": {},
     "source": [
      "#??????????/\n",
      "What is `upstream`?\n",
      "\n",
      "Why we are setting `upstream`?"
     ]
    },
    {
     "cell_type": "code",
     "collapsed": false,
     "input": [
      "! git log --oneline --decorate --all --graph"
     ],
     "language": "python",
     "metadata": {},
     "outputs": [
      {
       "output_type": "stream",
       "stream": "stdout",
       "text": [
        "* 6dcee29 (HEAD, dev) Add play again feature\r\n",
        "*   87f6962 Merged feature-instructions into dev.\r\n",
        "|\\  \r\n",
        "| * f2a0b32 (feature-instructions) Added instructions on how to play the game.\r\n",
        "* |   63716cf Merging feature-pretty_interface into dev\r\n",
        "|\\ \\  \r\n",
        "| * | 4da44b9 (feature-pretty_interface) Improved the user interface.\r\n",
        "| |/  \r\n",
        "* | f4eaf93 (feature-rand_num_guess) The number to be guessed is now random.\r\n",
        "|/  \r\n",
        "* c6db876 (tag: v1.0, master) Made a working game.\r\n",
        "* 5558817 Added .gitignore\r\n",
        "* 0c60086 Added the main game file.\r\n"
       ]
      }
     ],
     "prompt_number": 38
    },
    {
     "cell_type": "markdown",
     "metadata": {},
     "source": [
      "Let's push all the tags and master branch to the main repo."
     ]
    },
    {
     "cell_type": "code",
     "collapsed": false,
     "input": [
      "! git push --tags main"
     ],
     "language": "python",
     "metadata": {},
     "outputs": [
      {
       "output_type": "stream",
       "stream": "stdout",
       "text": [
        "Total 0 (delta 0), reused 0 (delta 0)\r\n",
        "To ../num_game.git/\r\n",
        " * [new tag]         v1.0 -> v1.0\r\n"
       ]
      }
     ],
     "prompt_number": 40
    },
    {
     "cell_type": "code",
     "collapsed": false,
     "input": [
      "! git push main master"
     ],
     "language": "python",
     "metadata": {},
     "outputs": [
      {
       "output_type": "stream",
       "stream": "stdout",
       "text": [
        "Total 0 (delta 0), reused 0 (delta 0)\r\n",
        "To ../num_game.git/\r\n",
        " * [new branch]      master -> master\r\n"
       ]
      }
     ],
     "prompt_number": 41
    },
    {
     "cell_type": "markdown",
     "metadata": {},
     "source": [
      "Are you able to differentiate between the first and the last commit?"
     ]
    },
    {
     "cell_type": "code",
     "collapsed": false,
     "input": [
      "! git log --decorate --all --graph"
     ],
     "language": "python",
     "metadata": {},
     "outputs": [
      {
       "output_type": "stream",
       "stream": "stdout",
       "text": [
        "* commit 6dcee298da9b729165d20f18aea434394307ac28 (HEAD, dev)\r\n",
        "| Author: Abhishek Gupta (knoxxs) <knoxxs@email.com>\r\n",
        "| Date:   Wed Feb 19 01:55:54 2014 +0530\r\n",
        "| \r\n",
        "|     Add play again feature\r\n",
        "|    \r\n",
        "*   commit 87f6962763828a639b1f4bb9b75a79a9efde5f0a\r\n",
        "|\\  Merge: 63716cf f2a0b32\r\n",
        "| | Author: Abhishek Gupta <abhi.bansal21@gmail.com>\r\n",
        "| | Date:   Tue Feb 18 11:35:28 2014 +0530\r\n",
        "| | \r\n",
        "| |     Merged feature-instructions into dev.\r\n",
        "| |   \r\n",
        "| * commit f2a0b32c8e0b0e57fa64048e3679af5c1eee8f73 (feature-instructions)\r\n",
        "| | Author: Abhishek Gupta <abhi.bansal21@gmail.com>\r\n",
        "| | Date:   Tue Feb 18 11:23:27 2014 +0530\r\n",
        "| | \r\n",
        "| |     Added instructions on how to play the game.\r\n",
        "| |     \r\n",
        "* |   commit 63716cfa9030ba1335237b6b51f276d1df3249d4\r\n",
        "|\\ \\  Merge: f4eaf93 4da44b9\r\n",
        "| | | Author: Abhishek Gupta <abhi.bansal21@gmail.com>\r\n",
        "| | | Date:   Tue Feb 18 11:03:20 2014 +0530\r\n",
        "| | | \r\n",
        "| | |     Merging feature-pretty_interface into dev\r\n",
        "| | |    \r\n",
        "| * | commit 4da44b923d87c6b6464e5b16d1b29e3b9059563d (feature-pretty_interface)\r\n",
        "| |/  Author: Abhishek Gupta <abhi.bansal21@gmail.com>\r\n",
        "| |   Date:   Tue Feb 18 10:41:20 2014 +0530\r\n",
        "| |   \r\n",
        "| |       Improved the user interface.\r\n",
        "| |   \r\n",
        "* | commit f4eaf9373b5b2b5c9f6a7c608920f0582cd97adb (feature-rand_num_guess)\r\n",
        "|/  Author: Abhishek Gupta <abhi.bansal21@gmail.com>\r\n",
        "|   Date:   Tue Feb 18 10:53:31 2014 +0530\r\n",
        "|   \r\n",
        "|       The number to be guessed is now random.\r\n",
        "|  \r\n",
        "* commit c6db87633eb9bc527d4172489bfe750f6e94dee9 (tag: v1.0, main/master, master)\r\n",
        "| Author: Abhishek Gupta <abhi.bansal21@gmail.com>\r\n",
        "| Date:   Mon Feb 17 17:39:31 2014 +0530\r\n",
        "| \r\n",
        "|     Made a working game.\r\n",
        "|  \r\n",
        "* commit 5558817d194fe165fe0c37e624e3996bcc5052d8\r\n",
        "| Author: Abhishek Gupta <abhi.bansal21@gmail.com>\r\n",
        "| Date:   Mon Feb 17 17:26:53 2014 +0530\r\n",
        "| \r\n",
        "|     Added .gitignore\r\n",
        "|  \r\n",
        "* commit 0c60086b6b33639a5349cfc168719dba9f2e8260\r\n",
        "  Author: Abhishek Gupta <abhi.bansal21@gmail.com>\r\n",
        "  Date:   Mon Feb 17 17:22:21 2014 +0530\r\n",
        "  \r\n",
        "      Added the main game file.\r\n"
       ]
      }
     ],
     "prompt_number": 42
    },
    {
     "cell_type": "markdown",
     "metadata": {},
     "source": [
      "# Going Public\n",
      "\n",
      "## Public vs Remote\n",
      "\n",
      "Can you tell me the difference betweet public and remote?\n",
      "Is there any difference at all? \n",
      "Is it sane to talk about difference?\n",
      "\n",
      "*Hint*: In this tutorial we are going public using **Github**.\n",
      "\n",
      "Can you tell the difference now?\n",
      "\n",
      "Is the repo (public or remote) is the central repository?"
     ]
    },
    {
     "cell_type": "markdown",
     "metadata": {},
     "source": [
      "## Creating a Repo (@Github)\n",
      "\n",
      "First you need to create an acoount on github. Then, follow the following video to make a new repository in github.\n",
      "\n",
      "<iframe width=\"420\" height=\"315\" src=\"//www.youtube.com/embed/cTtXb6gnHVE?rel=0\" frameborder=\"0\" allowfullscreen></iframe>"
     ]
    },
    {
     "cell_type": "markdown",
     "metadata": {},
     "source": [
      "## Adding Remote for Public\n",
      "\n",
      "Now we will add a remote to our repo, pointing to the public repo."
     ]
    },
    {
     "cell_type": "code",
     "collapsed": false,
     "input": [
      "! git remote add origin https://github.com/mitthu/num_game.git"
     ],
     "language": "python",
     "metadata": {},
     "outputs": [],
     "prompt_number": 43
    },
    {
     "cell_type": "markdown",
     "metadata": {},
     "source": [
      "## Pushing Changes"
     ]
    },
    {
     "cell_type": "code",
     "collapsed": false,
     "input": [
      "! git push origin dev"
     ],
     "language": "python",
     "metadata": {},
     "outputs": [
      {
       "output_type": "stream",
       "stream": "stdout",
       "text": [
        "^C\r\n"
       ]
      }
     ],
     "prompt_number": 44
    },
    {
     "cell_type": "code",
     "collapsed": false,
     "input": [
      "! git push origin --tags master"
     ],
     "language": "python",
     "metadata": {},
     "outputs": [
      {
       "output_type": "stream",
       "stream": "stdout",
       "text": [
        "Everything up-to-date\r\n"
       ]
      }
     ],
     "prompt_number": 15
    },
    {
     "cell_type": "markdown",
     "metadata": {},
     "source": [
      "In the above command we have pushed both the tags and `master` branch together."
     ]
    },
    {
     "cell_type": "markdown",
     "metadata": {},
     "source": [
      "#Issue Tracker\n",
      "\n",
      "A issue tracker is a software/service used by organisations to track issues. One can have a issue tracker for a software and also for its source code (in case of open source development). With the help of issue tracker someone can post (raise) any issue relating to the product/code. Issues aren't always negative. Issue can be a bug, enhancement, feature, etc.\n",
      "\n",
      "In case of open source deveopment who is going to post issues for your code? (In case of open source development people usaully have single issue tracker for both product and source code.)\n",
      "\n",
      "Github has a issue tracker system of it own. From now own we will be only talking about Github's issue tracker system."
     ]
    },
    {
     "cell_type": "markdown",
     "metadata": {},
     "source": [
      "## Solving Bug1: Integer Random Number\n",
      "\n",
      "Our code has a bug. The random number we are generating is a `floating point number`. It should be a integer. Let's solve this bug by using a issue tracker system.\n",
      "\n",
      "While solving this bug we are following a real world scenerio when the owner of the repository (local, the first person named mitthu) founds the bug. Also the follwing parts can be treated as the anatomy of a bug. Since mitthu is also the owner of public repo, we will be creating the issue from his account."
     ]
    },
    {
     "cell_type": "markdown",
     "metadata": {},
     "source": [
      "\n",
      "### Creating Issue\n",
      "\n",
      "Follow the folowing video to create a new issue.\n",
      "\n",
      "\n",
      "<iframe width=\"420\" height=\"315\" src=\"//www.youtube.com/embed/jT2jXnEU9fw?rel=0\" frameborder=\"0\" allowfullscreen></iframe>"
     ]
    },
    {
     "cell_type": "markdown",
     "metadata": {},
     "source": [
      "### Solving the Bug\n",
      "\n",
      "Following  code solve the bug1.\n",
      "\n",
      "```\n",
      "#!/usr/bin/python\n",
      "import os\n",
      "import random\n",
      "\n",
      "def main():\n",
      "    print \"Welcome to guess the number game\\n===========================\"\n",
      "    print \"\"\"\n",
      "\tInstructions:\n",
      "\t------------\n",
      "\t1) Guess a number between 0 to 100.\n",
      "\t2) The game tells you how close you are to the guess.\n",
      "\t3) It would also tell you whether you have guess higher\n",
      "\t   or lower than the previous guess.\n",
      "\t4) Continue until you guess it right!\n",
      "\tAnd you win... :-) Kudos!\n",
      "\t\"\"\"\n",
      "    \n",
      "    play_again = 'y'\n",
      "    while play_again == 'y':\n",
      "        num = random.randint(0, 100)\n",
      "        guess = \"\"\n",
      "\n",
      "        while guess != num:\n",
      "            guess = int(raw_input(\"Take a guess: \"))\n",
      "            if guess < num:\n",
      "                print \"Guess higher next time\\n\"\n",
      "            elif guess > num:\n",
      "                print \"Guess lower next time\\n\"\n",
      "        print \"Voila! You got it!\\nNow you know the deep secrets of life, universe and everything...\\n\"\n",
      "    \n",
      "        play_again = raw_input(\"Wanna play again (y/n): \")\n",
      "        if play_again == 'n':\n",
      "            print \"Bye...\"\n",
      "            break\n",
      "main()\n",
      "```"
     ]
    },
    {
     "cell_type": "code",
     "collapsed": false,
     "input": [
      "! git status"
     ],
     "language": "python",
     "metadata": {},
     "outputs": [
      {
       "output_type": "stream",
       "stream": "stdout",
       "text": [
        "# On branch dev\r\n",
        "# Changes not staged for commit:\r\n",
        "#   (use \"git add <file>...\" to update what will be committed)\r\n",
        "#   (use \"git checkout -- <file>...\" to discard changes in working directory)\r\n",
        "#\r\n",
        "#\tmodified:   game.py\r\n",
        "#\r\n",
        "no changes added to commit (use \"git add\" and/or \"git commit -a\")\r\n"
       ]
      }
     ],
     "prompt_number": 46
    },
    {
     "cell_type": "code",
     "collapsed": false,
     "input": [
      "! git diff"
     ],
     "language": "python",
     "metadata": {},
     "outputs": [
      {
       "output_type": "stream",
       "stream": "stdout",
       "text": [
        "diff --git a/game.py b/game.py\r\n",
        "index 05f182c..25f1298 100644\r\n",
        "--- a/game.py\r\n",
        "+++ b/game.py\r\n",
        "@@ -17,7 +17,7 @@ def main():\r\n",
        " \r\n",
        "     play_again = 'y'\r\n",
        "     while play_again == 'y':\r\n",
        "-        num = random.random()*100 // 1\r\n",
        "+        num = random.randint(0, 100)\r\n",
        "         guess = \"\"\r\n",
        " \r\n",
        "         while guess != num:\r\n"
       ]
      }
     ],
     "prompt_number": 48
    },
    {
     "cell_type": "code",
     "collapsed": false,
     "input": [
      "! git commit -am \"Solved Issue #1: The random number is now an integer.\""
     ],
     "language": "python",
     "metadata": {},
     "outputs": [
      {
       "output_type": "stream",
       "stream": "stdout",
       "text": [
        "[dev 11c9714] Solved Issue #1: The random number is now an integer.\r\n",
        " 1 file changed, 1 insertion(+), 1 deletion(-)\r\n"
       ]
      }
     ],
     "prompt_number": 49
    },
    {
     "cell_type": "code",
     "collapsed": false,
     "input": [
      "! git log --oneline --all --graph --decorate"
     ],
     "language": "python",
     "metadata": {},
     "outputs": [
      {
       "output_type": "stream",
       "stream": "stdout",
       "text": [
        "* 11c9714 (HEAD, dev) Solved Issue #1: The random number is now an integer.\r\n",
        "* 6dcee29 Add play again feature\r\n",
        "*   87f6962 Merged feature-instructions into dev.\r\n",
        "|\\  \r\n",
        "| * f2a0b32 (feature-instructions) Added instructions on how to play the game.\r\n",
        "* |   63716cf Merging feature-pretty_interface into dev\r\n",
        "|\\ \\  \r\n",
        "| * | 4da44b9 (feature-pretty_interface) Improved the user interface.\r\n",
        "| |/  \r\n",
        "* | f4eaf93 (feature-rand_num_guess) The number to be guessed is now random.\r\n",
        "|/  \r\n",
        "* c6db876 (tag: v1.0, main/master, master) Made a working game.\r\n",
        "* 5558817 Added .gitignore\r\n",
        "* 0c60086 Added the main game file.\r\n"
       ]
      }
     ],
     "prompt_number": 51
    },
    {
     "cell_type": "markdown",
     "metadata": {},
     "source": [
      "### Pushing Changes (with Solved Bug)\n",
      "\n",
      "Now we will be pushing these changes to the public repo."
     ]
    },
    {
     "cell_type": "code",
     "collapsed": false,
     "input": [
      "! git push origin"
     ],
     "language": "python",
     "metadata": {},
     "outputs": [
      {
       "output_type": "stream",
       "stream": "stdout",
       "text": [
        "warning: push.default is unset; its implicit value is changing in\r\n",
        "Git 2.0 from 'matching' to 'simple'. To squelch this message\r\n",
        "and maintain the current behavior after the default changes, use:\r\n",
        "\r\n",
        "  git config --global push.default matching\r\n",
        "\r\n",
        "To squelch this message and adopt the new behavior now, use:\r\n",
        "\r\n",
        "  git config --global push.default simple\r\n",
        "\r\n",
        "See 'git help config' and search for 'push.default' for further information.\r\n",
        "(the 'simple' mode was introduced in Git 1.7.11. Use the similar mode\r\n",
        "'current' instead of 'simple' if you sometimes use older versions of Git)\r\n",
        "\r\n"
       ]
      },
      {
       "output_type": "stream",
       "stream": "stdout",
       "text": [
        "Counting objects: 5, done.\r\n",
        "Delta compression using up to 2 threads.\r\n",
        "Compressing objects:  33% (1/3)   \r",
        "Compressing objects:  66% (2/3)   \r",
        "Compressing objects: 100% (3/3)   \r",
        "Compressing objects: 100% (3/3), done.\r\n",
        "Writing objects:  33% (1/3)   \r",
        "Writing objects:  66% (2/3)   \r",
        "Writing objects: 100% (3/3)   \r",
        "Writing objects: 100% (3/3), 363 bytes | 0 bytes/s, done.\r\n",
        "Total 3 (delta 1), reused 0 (delta 0)\r\n"
       ]
      },
      {
       "output_type": "stream",
       "stream": "stdout",
       "text": [
        "To https://github.com/mitthu/num_game.git\r\n",
        "   a828076..21244cd  dev -> dev\r\n"
       ]
      }
     ],
     "prompt_number": 21
    },
    {
     "cell_type": "markdown",
     "metadata": {},
     "source": [
      "What is the meanign of the above warning?"
     ]
    },
    {
     "cell_type": "code",
     "collapsed": false,
     "input": [
      "! git config --global push.default matching"
     ],
     "language": "python",
     "metadata": {},
     "outputs": [],
     "prompt_number": 33
    },
    {
     "cell_type": "code",
     "collapsed": false,
     "input": [
      "! git push origin"
     ],
     "language": "python",
     "metadata": {},
     "outputs": [
      {
       "output_type": "stream",
       "stream": "stdout",
       "text": [
        "Everything up-to-date\r\n"
       ]
      }
     ],
     "prompt_number": 35
    },
    {
     "cell_type": "markdown",
     "metadata": {},
     "source": [
      "Why we are getting `Everything up-to-date`?\n",
      "\n",
      "Where does the above branch pushes?"
     ]
    },
    {
     "cell_type": "code",
     "collapsed": false,
     "input": [
      "! git branch -avv"
     ],
     "language": "python",
     "metadata": {},
     "outputs": [
      {
       "output_type": "stream",
       "stream": "stdout",
       "text": [
        "* dev                      21244cd [main/dev: ahead 1] Solved Issue #1: The random number is now an integer.\r\n",
        "  feature-instructions     5e00396 Added instructions on how to play the game.\r\n",
        "  feature-pretty_interface 046fc6c Improved the user interface.\r\n",
        "  feature-rand_num_guess   bea068e The number to be guessed is now random.\r\n",
        "  master                   8398393 Made a working game.\r\n",
        "  remotes/main/dev         a828076 Add play again feature\r\n",
        "  remotes/main/master      8398393 Made a working game.\r\n",
        "  remotes/origin/dev       21244cd Solved Issue #1: The random number is now an integer.\r\n",
        "  remotes/origin/master    8398393 Made a working game.\r\n"
       ]
      }
     ],
     "prompt_number": 28
    },
    {
     "cell_type": "markdown",
     "metadata": {},
     "source": [
      "Our `dev` branch is still tracking the `main/dev` branch. Let's make it track the `origin\\dev` branch i.e. the public dev branch."
     ]
    },
    {
     "cell_type": "code",
     "collapsed": false,
     "input": [
      "! git push -u origin dev"
     ],
     "language": "python",
     "metadata": {},
     "outputs": [
      {
       "output_type": "stream",
       "stream": "stdout",
       "text": [
        "Branch dev set up to track remote branch dev from origin.\r\n",
        "Everything up-to-date\r\n"
       ]
      }
     ],
     "prompt_number": 29
    },
    {
     "cell_type": "code",
     "collapsed": false,
     "input": [
      "! git branch -avv"
     ],
     "language": "python",
     "metadata": {},
     "outputs": [
      {
       "output_type": "stream",
       "stream": "stdout",
       "text": [
        "* dev                      21244cd [origin/dev] Solved Issue #1: The random number is now an integer.\r\n",
        "  feature-instructions     5e00396 Added instructions on how to play the game.\r\n",
        "  feature-pretty_interface 046fc6c Improved the user interface.\r\n",
        "  feature-rand_num_guess   bea068e The number to be guessed is now random.\r\n",
        "  master                   8398393 Made a working game.\r\n",
        "  remotes/main/dev         a828076 Add play again feature\r\n",
        "  remotes/main/master      8398393 Made a working game.\r\n",
        "  remotes/origin/dev       21244cd Solved Issue #1: The random number is now an integer.\r\n",
        "  remotes/origin/master    8398393 Made a working game.\r\n"
       ]
      }
     ],
     "prompt_number": 30
    },
    {
     "cell_type": "markdown",
     "metadata": {},
     "source": [
      "### Closing the Issue\n",
      "\n",
      "As our bug is solved we can close the issue. Follow the following video to see the closing process.\n",
      "\n",
      "<iframe width=\"420\" height=\"315\" src=\"//www.youtube.com/embed/wrZexe5k5fI?rel=0\" frameborder=\"0\" allowfullscreen></iframe>\n",
      "\n",
      "Impoertant Points: \n",
      "- How git automatically merges the commit with the issue status tree."
     ]
    },
    {
     "cell_type": "markdown",
     "metadata": {},
     "source": [
      "# Contributing to Open Source Development\n",
      "\n",
      "Now suppose we have a new programmer, named knoxxs, who wants to contribute to our project. Don't confuse it with the previous local knoxxs. He is gone.\n",
      "\n",
      "knoxxs was using our game but he found a bug in our game. So the first step is to post a issue. But knoxxs wants to solve this bug own his own.\n",
      "\n",
      "While solving this bug we are covering the real life case when someone wants to solve a bug in someone's other repository."
     ]
    },
    {
     "cell_type": "markdown",
     "metadata": {},
     "source": [
      "## Solving Bug2: Should not Crash on Non-Integer Input\n",
      "\n",
      "Right now if user enters any non-integer characters as user input to guess the number, the program crashes. we should validate user input and give approriate response to the user."
     ]
    },
    {
     "cell_type": "markdown",
     "metadata": {},
     "source": [
      "### Forking the Original Repo\n",
      "\n",
      "Now knoxxs should copy the original code and then make his own changes to the copied code. Forking is github way of doing the same.\n",
      "\n",
      "Following video explains the forking process:\n",
      "\n",
      "<iframe width=\"420\" height=\"315\" src=\"//www.youtube.com/embed/lTA4DYT8GgQ?rel=0\" frameborder=\"0\" allowfullscreen></iframe>"
     ]
    },
    {
     "cell_type": "markdown",
     "metadata": {},
     "source": [
      "### Creating Issue\n",
      "\n",
      "Now we want to create a issue for the bug2. This time knoxxs will be posting this issue from his own account to the original repo's issue tracker. For this knoxxs need a github account.\n",
      "\n",
      "Following vides shows the same:\n",
      "\n",
      "<iframe width=\"420\" height=\"315\" src=\"//www.youtube.com/embed/n3ydn_HE7vw?rel=0\" frameborder=\"0\" allowfullscreen></iframe>"
     ]
    },
    {
     "cell_type": "markdown",
     "metadata": {},
     "source": [
      "### Clonning the forked repo.\n",
      "\n",
      "Copy the clone url."
     ]
    },
    {
     "cell_type": "code",
     "collapsed": false,
     "input": [
      "cd .."
     ],
     "language": "python",
     "metadata": {},
     "outputs": [
      {
       "output_type": "stream",
       "stream": "stdout",
       "text": [
        "/home/me/Projects/numGame\n"
       ]
      }
     ],
     "prompt_number": 52
    },
    {
     "cell_type": "code",
     "collapsed": false,
     "input": [
      " mkdir src_knoxxs"
     ],
     "language": "python",
     "metadata": {},
     "outputs": [],
     "prompt_number": 53
    },
    {
     "cell_type": "code",
     "collapsed": false,
     "input": [
      "cd src_knoxxs/"
     ],
     "language": "python",
     "metadata": {},
     "outputs": [
      {
       "output_type": "stream",
       "stream": "stdout",
       "text": [
        "/home/me/Projects/numGame/src_knoxxs\n"
       ]
      }
     ],
     "prompt_number": 54
    },
    {
     "cell_type": "code",
     "collapsed": false,
     "input": [
      "! git clone https://github.com/knoxxs/num_game.git"
     ],
     "language": "python",
     "metadata": {},
     "outputs": [
      {
       "output_type": "stream",
       "stream": "stdout",
       "text": [
        "Cloning into 'num_game'...\r\n"
       ]
      },
      {
       "output_type": "stream",
       "stream": "stdout",
       "text": [
        "remote: Counting objects: 33, done.\u001b[K\r\n",
        "remote: Compressing objects:   4% (1/21)   \u001b[K\r",
        "remote: Compressing objects:   9% (2/21)   \u001b[K\r",
        "remote: Compressing objects:  14% (3/21)   \u001b[K\r",
        "remote: Compressing objects:  19% (4/21)   \u001b[K\r",
        "remote: Compressing objects:  23% (5/21)   \u001b[K\r",
        "remote: Compressing objects:  28% (6/21)   \u001b[K\r",
        "remote: Compressing objects:  33% (7/21)   \u001b[K\r",
        "remote: Compressing objects:  38% (8/21)   \u001b[K\r",
        "remote: Compressing objects:  42% (9/21)   \u001b[K\r",
        "remote: Compressing objects:  47% (10/21)   \u001b[K\r",
        "remote: Compressing objects:  52% (11/21)   \u001b[K\r",
        "remote: Compressing objects:  57% (12/21)   \u001b[K\r",
        "remote: Compressing objects:  61% (13/21)   \u001b[K\r",
        "remote: Compressing objects:  66% (14/21)   \u001b[K\r",
        "remote: Compressing objects:  71% (15/21)   \u001b[K\r",
        "remote: Compressing objects:  76% (16/21)   \u001b[K\r",
        "remote: Compressing objects:  80% (17/21)   \u001b[K\r",
        "remote: Compressing objects:  85% (18/21)   \u001b[K\r",
        "remote: Compressing objects:  90% (19/21)   \u001b[K\r",
        "remote: Compressing objects:  95% (20/21)   \u001b[K\r",
        "remote: Compressing objects: 100% (21/21)   \u001b[K\r",
        "remote: Compressing objects: 100% (21/21), done.\u001b[K\r\n"
       ]
      },
      {
       "output_type": "stream",
       "stream": "stdout",
       "text": [
        "remote: Total 33 (delta 9), reused 33 (delta 9)\u001b[K\r\n",
        "Unpacking objects:   3% (1/33)   \r",
        "Unpacking objects:   6% (2/33)   \r",
        "Unpacking objects:   9% (3/33)   \r",
        "Unpacking objects:  12% (4/33)   \r",
        "Unpacking objects:  15% (5/33)   \r",
        "Unpacking objects:  18% (6/33)   \r",
        "Unpacking objects:  21% (7/33)   \r",
        "Unpacking objects:  24% (8/33)   \r",
        "Unpacking objects:  27% (9/33)   \r",
        "Unpacking objects:  30% (10/33)   \r",
        "Unpacking objects:  33% (11/33)   \r",
        "Unpacking objects:  36% (12/33)   \r",
        "Unpacking objects:  39% (13/33)   \r",
        "Unpacking objects:  42% (14/33)   \r",
        "Unpacking objects:  45% (15/33)   \r",
        "Unpacking objects:  48% (16/33)   \r",
        "Unpacking objects:  51% (17/33)   \r",
        "Unpacking objects:  54% (18/33)   \r",
        "Unpacking objects:  57% (19/33)   \r",
        "Unpacking objects:  60% (20/33)   \r",
        "Unpacking objects:  63% (21/33)   \r",
        "Unpacking objects:  66% (22/33)   \r",
        "Unpacking objects:  69% (23/33)   \r",
        "Unpacking objects:  72% (24/33)   \r",
        "Unpacking objects:  75% (25/33)   \r",
        "Unpacking objects:  78% (26/33)   \r",
        "Unpacking objects:  81% (27/33)   \r",
        "Unpacking objects:  84% (28/33)   \r",
        "Unpacking objects:  87% (29/33)   \r",
        "Unpacking objects:  90% (30/33)   \r",
        "Unpacking objects:  93% (31/33)   \r",
        "Unpacking objects:  96% (32/33)   \r",
        "Unpacking objects: 100% (33/33)   \r",
        "Unpacking objects: 100% (33/33), done.\r\n"
       ]
      }
     ],
     "prompt_number": 56
    },
    {
     "cell_type": "code",
     "collapsed": false,
     "input": [
      "cd num_game/"
     ],
     "language": "python",
     "metadata": {},
     "outputs": [
      {
       "output_type": "stream",
       "stream": "stdout",
       "text": [
        "/home/me/Projects/numGame/src_knoxxs/num_game\n"
       ]
      }
     ],
     "prompt_number": 57
    },
    {
     "cell_type": "code",
     "collapsed": false,
     "input": [
      "! git status"
     ],
     "language": "python",
     "metadata": {},
     "outputs": [
      {
       "output_type": "stream",
       "stream": "stdout",
       "text": [
        "# On branch master\r\n",
        "nothing to commit, working directory clean\r\n"
       ]
      }
     ],
     "prompt_number": 58
    },
    {
     "cell_type": "code",
     "collapsed": false,
     "input": [
      "! git log --oneline --decorate --graph --all"
     ],
     "language": "python",
     "metadata": {},
     "outputs": [
      {
       "output_type": "stream",
       "stream": "stdout",
       "text": [
        "* 566cb5a (origin/dev) Solved Issue #2: Textual Input @ Console\r\n",
        "* 21244cd Solved Issue #1: The random number is now an integer.\r\n",
        "* a828076 Add play again feature\r\n",
        "*   fee581f Merged feature-instructions into dev.\r\n",
        "|\\  \r\n",
        "| * 5e00396 Added instructions on how to play the game.\r\n",
        "* |   4c161b4 Merging feature-pretty_interface into dev\r\n",
        "|\\ \\  \r\n",
        "| * | 046fc6c Improved the user interface.\r\n",
        "| |/  \r\n",
        "* | bea068e The number to be guessed is now random.\r\n",
        "|/  \r\n",
        "* 8398393 (HEAD, tag: v1.0, origin/master, origin/HEAD, master) Made a working game.\r\n",
        "* 1df665d Added .gitignore\r\n",
        "* 7af15f2 Added the main game file.\r\n"
       ]
      }
     ],
     "prompt_number": 59
    },
    {
     "cell_type": "markdown",
     "metadata": {},
     "source": [
      "### Solving the Bug"
     ]
    },
    {
     "cell_type": "code",
     "collapsed": false,
     "input": [
      "! git checkout dev"
     ],
     "language": "python",
     "metadata": {},
     "outputs": [
      {
       "output_type": "stream",
       "stream": "stdout",
       "text": [
        "Branch dev set up to track remote branch dev from origin.\r\n",
        "Switched to a new branch 'dev'\r\n"
       ]
      }
     ],
     "prompt_number": 60
    },
    {
     "cell_type": "markdown",
     "metadata": {},
     "source": [
      "Following code will solves the bug2:\n",
      "\n",
      "```python\n",
      "#!/usr/bin/python\n",
      "import os\n",
      "import random\n",
      "\n",
      "def main():\n",
      "    print \"Welcome to guess the number game\\n===========================\"\n",
      "    print \"\"\"\n",
      "\tInstructions:\n",
      "\t------------\n",
      "\t1) Guess a number between 0 to 100.\n",
      "\t2) The game tells you how close you are to the guess.\n",
      "\t3) It would also tell you whether you have guess higher\n",
      "\t   or lower than the previous guess.\n",
      "\t4) Continue until you guess it right!\n",
      "\tAnd you win... :-) Kudos!\n",
      "\t\"\"\"\n",
      "    \n",
      "    play_again = 'y'\n",
      "    while play_again == 'y':\n",
      "        num = random.randint(0, 100)\n",
      "        guess = \"\"\n",
      "\n",
      "        while guess != num:\n",
      "            while True:\n",
      "                try:\n",
      "                    guess = int(raw_input(\"Take a guess: \"))\n",
      "                    break\n",
      "                except Exception, e:\n",
      "                    print \"Please enter an integer.\"\n",
      "                \n",
      "            if guess < num:\n",
      "                print \"Guess higher next time\\n\"\n",
      "            elif guess > num:\n",
      "                print \"Guess lower next time\\n\"\n",
      "        print \"Voila! You got it!\\nNow you know the deep secrets of life, universe and everything...\\n\"\n",
      "    \n",
      "        play_again = raw_input(\"Wanna play again (y/n): \")\n",
      "        if play_again == 'n':\n",
      "            print \"Bye...\"\n",
      "            break\n",
      "main()\n",
      "```"
     ]
    },
    {
     "cell_type": "code",
     "collapsed": false,
     "input": [
      "! git commit -am \"Solved Issue #2: Textual Input @ Console\""
     ],
     "language": "python",
     "metadata": {},
     "outputs": [
      {
       "output_type": "stream",
       "stream": "stdout",
       "text": [
        "[dev 7286034] Solved Issue #2: Textual Input @ Console\r\n",
        " 1 file changed, 7 insertions(+), 1 deletion(-)\r\n"
       ]
      }
     ],
     "prompt_number": 61
    },
    {
     "cell_type": "code",
     "collapsed": false,
     "input": [
      "! git diff HEAD~1 dev"
     ],
     "language": "python",
     "metadata": {},
     "outputs": [
      {
       "output_type": "stream",
       "stream": "stdout",
       "text": [
        "diff --git a/game.py b/game.py\r\n",
        "index 74c46fa..6becbbc 100755\r\n",
        "--- a/game.py\r\n",
        "+++ b/game.py\r\n",
        "@@ -21,7 +21,13 @@ def main():\r\n",
        "         guess = \"\"\r\n",
        " \r\n",
        "         while guess != num:\r\n",
        "-            guess = int(raw_input(\"Take a guess: \"))\r\n",
        "+            while True:\r\n",
        "+                try:\r\n",
        "+                    guess = int(raw_input(\"Take a guess: \"))\r\n",
        "+                    break\r\n",
        "+                except Exception, e:\r\n",
        "+                    print \"Please enter an integer.\"\r\n",
        "+                \r\n",
        "             if guess < num:\r\n",
        "                 print \"Guess higher next time\\n\"\r\n",
        "             elif guess > num:\r\n"
       ]
      }
     ],
     "prompt_number": 62
    },
    {
     "cell_type": "markdown",
     "metadata": {},
     "source": [
      "Above is the another variant of using `git diff` coammnd. It is `git diff old new`."
     ]
    },
    {
     "cell_type": "code",
     "collapsed": false,
     "input": [
      "! git push origin dev"
     ],
     "language": "python",
     "metadata": {},
     "outputs": [
      {
       "output_type": "stream",
       "stream": "stdout",
       "text": [
        "^C\r\n"
       ]
      }
     ],
     "prompt_number": 17
    },
    {
     "cell_type": "markdown",
     "metadata": {},
     "source": [
      "### Pushing Changes (via Pull Request)\n",
      "\n",
      "Now knoxxs has succefully solved the bug. He wants to push his changes to tthe original repo. The answer is `pull request`.\n",
      "\n",
      "Any forked repo can send a pull request to the original repo."
     ]
    },
    {
     "cell_type": "markdown",
     "metadata": {},
     "source": [
      "#### Sending Pull Request\n",
      "\n",
      "Now knoxxs will send a pull request to original repo.\n",
      "\n",
      "Following video shows the process of sending the pull request.\n",
      "\n",
      "<iframe width=\"420\" height=\"315\" src=\"//www.youtube.com/embed/WLEAAEsmDbI?rel=0\" frameborder=\"0\" allowfullscreen></iframe>"
     ]
    },
    {
     "cell_type": "markdown",
     "metadata": {},
     "source": [
      "#### Accepting Pull Request\n",
      "\n",
      "Now theres should be a pull request on mitthu's github repo page. He have to accept that repo.\n",
      "\n",
      "Following video shows the process of accepting the pull request.\n",
      "\n",
      "<iframe width=\"420\" height=\"315\" src=\"//www.youtube.com/embed/mQhgSp-A7AI\" frameborder=\"0\" allowfullscreen></iframe>"
     ]
    },
    {
     "cell_type": "markdown",
     "metadata": {},
     "source": [
      "### Closing Issue\n",
      "\n",
      "Now mitthu has to close the issue. The process is same as previous one.\n",
      "\n",
      "<figure style=\"text-align:center;\">\n",
      "    <img style=\"margin: 20px;-webkit-box-shadow: 0 0 15px 2px #333;-moz-box-shadow: 0 0 15px 2px #333;box-shadow: 0 0 15px 2px #333;\" src=\"http://farm8.staticflickr.com/7341/12785728535_efb68e462d_c.jpg\">\n",
      "    <figcaption style=\"font-variant: small-caps; font-family: Arial; font-weight: bold; color: #333;\">Issue Before Closing</figcaption>\n",
      "</figure>\n",
      "\n",
      "<figure style=\"text-align:center;\">\n",
      "    <img style=\"margin: 20px;-webkit-box-shadow: 0 0 15px 2px #333;-moz-box-shadow: 0 0 15px 2px #333;box-shadow: 0 0 15px 2px #333;\" src=\"http://farm8.staticflickr.com/7396/12785829903_248fb9c80a_z.jpg\">\n",
      "    <figcaption style=\"font-variant: small-caps; font-family: Arial; font-weight: bold; color: #333;\">Issue After Closing</figcaption>\n",
      "</figure>"
     ]
    },
    {
     "cell_type": "markdown",
     "metadata": {},
     "source": [
      "### Updating Original Local Repo\n",
      "\n",
      "Now, mitthu want to push the changes from the public repo to his local repo.\n",
      "\n",
      "Why would mitthu want that?\n",
      "\n",
      "What would be your workflow while using git?"
     ]
    },
    {
     "cell_type": "code",
     "collapsed": false,
     "input": [
      "cd ../../num_game/"
     ],
     "language": "python",
     "metadata": {},
     "outputs": [
      {
       "output_type": "stream",
       "stream": "stdout",
       "text": [
        "/home/me/Projects/numGame/num_game\n"
       ]
      }
     ],
     "prompt_number": 64
    },
    {
     "cell_type": "code",
     "collapsed": false,
     "input": [
      "! git log --oneline --all --graph --decorate"
     ],
     "language": "python",
     "metadata": {},
     "outputs": [
      {
       "output_type": "stream",
       "stream": "stdout",
       "text": [
        "* 11c9714 (HEAD, dev) Solved Issue #1: The random number is now an integer.\r\n",
        "* 6dcee29 Add play again feature\r\n",
        "*   87f6962 Merged feature-instructions into dev.\r\n",
        "|\\  \r\n",
        "| * f2a0b32 (feature-instructions) Added instructions on how to play the game.\r\n",
        "* |   63716cf Merging feature-pretty_interface into dev\r\n",
        "|\\ \\  \r\n",
        "| * | 4da44b9 (feature-pretty_interface) Improved the user interface.\r\n",
        "| |/  \r\n",
        "* | f4eaf93 (feature-rand_num_guess) The number to be guessed is now random.\r\n",
        "|/  \r\n",
        "* c6db876 (tag: v1.0, main/master, master) Made a working game.\r\n",
        "* 5558817 Added .gitignore\r\n",
        "* 0c60086 Added the main game file.\r\n"
       ]
      }
     ],
     "prompt_number": 65
    },
    {
     "cell_type": "code",
     "collapsed": false,
     "input": [
      "! git pull"
     ],
     "language": "python",
     "metadata": {},
     "outputs": [
      {
       "output_type": "stream",
       "stream": "stdout",
       "text": [
        "warning: no common commits\r\n",
        "remote: Reusing existing pack: 34, done.\u001b[K\r\n",
        "remote: Total 34 (delta 0), reused 0 (delta 0)\u001b[K\r\n",
        "Unpacking objects:   2% (1/34)   \r",
        "Unpacking objects:   5% (2/34)   \r",
        "Unpacking objects:   8% (3/34)   \r",
        "Unpacking objects:  11% (4/34)   \r",
        "Unpacking objects:  14% (5/34)   \r",
        "Unpacking objects:  17% (6/34)   \r",
        "Unpacking objects:  20% (7/34)   \r",
        "Unpacking objects:  23% (8/34)   \r",
        "Unpacking objects:  26% (9/34)   \r",
        "Unpacking objects:  29% (10/34)   \r",
        "Unpacking objects:  32% (11/34)   \r",
        "Unpacking objects:  35% (12/34)   \r",
        "Unpacking objects:  38% (13/34)   \r",
        "Unpacking objects:  41% (14/34)   \r",
        "Unpacking objects:  44% (15/34)   \r",
        "Unpacking objects:  47% (16/34)   \r",
        "Unpacking objects:  50% (17/34)   \r",
        "Unpacking objects:  52% (18/34)   \r",
        "Unpacking objects:  55% (19/34)   \r",
        "Unpacking objects:  58% (20/34)   \r",
        "Unpacking objects:  61% (21/34)   \r",
        "Unpacking objects:  64% (22/34)   \r",
        "Unpacking objects:  67% (23/34)   \r",
        "Unpacking objects:  70% (24/34)   \r",
        "Unpacking objects:  73% (25/34)   \r",
        "Unpacking objects:  76% (26/34)   \r",
        "Unpacking objects:  79% (27/34)   \r",
        "Unpacking objects:  82% (28/34)   \r",
        "Unpacking objects:  85% (29/34)   \r",
        "Unpacking objects:  88% (30/34)   \r",
        "Unpacking objects:  91% (31/34)   \r"
       ]
      },
      {
       "output_type": "stream",
       "stream": "stdout",
       "text": [
        "Unpacking objects:  94% (32/34)   \r",
        "Unpacking objects:  97% (33/34)   \r",
        "Unpacking objects: 100% (34/34)   \r",
        "Unpacking objects: 100% (34/34), done.\r\n"
       ]
      },
      {
       "output_type": "stream",
       "stream": "stdout",
       "text": [
        "From https://github.com/mitthu/num_game\r\n",
        " * [new branch]      dev        -> origin/dev\r\n",
        " * [new branch]      master     -> origin/master\r\n"
       ]
      },
      {
       "output_type": "stream",
       "stream": "stdout",
       "text": [
        "There is no tracking information for the current branch.\r\n",
        "Please specify which branch you want to merge with.\r\n",
        "See git-pull(1) for details\r\n",
        "\r\n",
        "    git pull <remote> <branch>\r\n",
        "\r\n",
        "If you wish to set tracking information for this branch you can do so with:\r\n",
        "\r\n",
        "    git branch --set-upstream-to=<remote>/<branch> dev\r\n",
        "\r\n"
       ]
      }
     ],
     "prompt_number": 66
    },
    {
     "cell_type": "code",
     "collapsed": false,
     "input": [
      "! git log --oneline --all --graph --decorate"
     ],
     "language": "python",
     "metadata": {},
     "outputs": [
      {
       "output_type": "stream",
       "stream": "stdout",
       "text": [
        "* 11c9714 (HEAD, dev) Solved Issue #1: The random number is now an integer.\r\n",
        "* 6dcee29 Add play again feature\r\n",
        "*   87f6962 Merged feature-instructions into dev.\r\n",
        "|\\  \r\n",
        "| * f2a0b32 (feature-instructions) Added instructions on how to play the game.\r\n",
        "* |   63716cf Merging feature-pretty_interface into dev\r\n",
        "|\\ \\  \r\n",
        "| * | 4da44b9 (feature-pretty_interface) Improved the user interface.\r\n",
        "| |/  \r\n",
        "* | f4eaf93 (feature-rand_num_guess) The number to be guessed is now random.\r\n",
        "|/  \r\n",
        "* c6db876 (tag: v1.0, main/master, master) Made a working game.\r\n",
        "* 5558817 Added .gitignore\r\n",
        "* 0c60086 Added the main game file.\r\n",
        "*   62b6089 (origin/dev) Merge pull request #3 from knoxxs/dev\r\n",
        "|\\  \r\n",
        "| * 566cb5a Solved Issue #2: Textual Input @ Console\r\n",
        "|/  \r\n",
        "* 21244cd Solved Issue #1: The random number is now an integer.\r\n",
        "* a828076 Add play again feature\r\n",
        "*   fee581f Merged feature-instructions into dev.\r\n",
        "|\\  \r\n",
        "| * 5e00396 Added instructions on how to play the game.\r\n",
        "* |   4c161b4 Merging feature-pretty_interface into dev\r\n",
        "|\\ \\  \r\n",
        "| * | 046fc6c Improved the user interface.\r\n",
        "| |/  \r\n",
        "* | bea068e The number to be guessed is now random.\r\n",
        "|/  \r\n",
        "* 8398393 (origin/master) Made a working game.\r\n",
        "* 1df665d Added .gitignore\r\n",
        "* 7af15f2 Added the main game file.\r\n"
       ]
      }
     ],
     "prompt_number": 67
    },
    {
     "cell_type": "markdown",
     "metadata": {},
     "source": [
      "What should be the name off the author for the commit solving the bug?"
     ]
    },
    {
     "cell_type": "code",
     "collapsed": false,
     "input": [
      "! git log --all --graph --decorate"
     ],
     "language": "python",
     "metadata": {},
     "outputs": [
      {
       "output_type": "stream",
       "stream": "stdout",
       "text": [
        "* commit 11c9714934a3f7d82aaa8573c92bce03d39bc68e (HEAD, dev)\r\n",
        "| Author: Abhishek Gupta <abhi.bansal21@gmail.com>\r\n",
        "| Date:   Mon Feb 24 00:28:18 2014 +0530\r\n",
        "| \r\n",
        "|     Solved Issue #1: The random number is now an integer.\r\n",
        "|  \r\n",
        "* commit 6dcee298da9b729165d20f18aea434394307ac28\r\n",
        "| Author: Abhishek Gupta (knoxxs) <knoxxs@email.com>\r\n",
        "| Date:   Wed Feb 19 01:55:54 2014 +0530\r\n",
        "| \r\n",
        "|     Add play again feature\r\n",
        "|    \r\n",
        "*   commit 87f6962763828a639b1f4bb9b75a79a9efde5f0a\r\n",
        "|\\  Merge: 63716cf f2a0b32\r\n",
        "| | Author: Abhishek Gupta <abhi.bansal21@gmail.com>\r\n",
        "| | Date:   Tue Feb 18 11:35:28 2014 +0530\r\n",
        "| | \r\n",
        "| |     Merged feature-instructions into dev.\r\n",
        "| |   \r\n",
        "| * commit f2a0b32c8e0b0e57fa64048e3679af5c1eee8f73 (feature-instructions)\r\n",
        "| | Author: Abhishek Gupta <abhi.bansal21@gmail.com>\r\n",
        "| | Date:   Tue Feb 18 11:23:27 2014 +0530\r\n",
        "| | \r\n",
        "| |     Added instructions on how to play the game.\r\n",
        "| |     \r\n",
        "* |   commit 63716cfa9030ba1335237b6b51f276d1df3249d4\r\n",
        "|\\ \\  Merge: f4eaf93 4da44b9\r\n",
        "| | | Author: Abhishek Gupta <abhi.bansal21@gmail.com>\r\n",
        "| | | Date:   Tue Feb 18 11:03:20 2014 +0530\r\n",
        "| | | \r\n",
        "| | |     Merging feature-pretty_interface into dev\r\n",
        "| | |    \r\n",
        "| * | commit 4da44b923d87c6b6464e5b16d1b29e3b9059563d (feature-pretty_interface)\r\n",
        "| |/  Author: Abhishek Gupta <abhi.bansal21@gmail.com>\r\n",
        "| |   Date:   Tue Feb 18 10:41:20 2014 +0530\r\n",
        "| |   \r\n",
        "| |       Improved the user interface.\r\n",
        "| |   \r\n",
        "* | commit f4eaf9373b5b2b5c9f6a7c608920f0582cd97adb (feature-rand_num_guess)\r\n",
        "|/  Author: Abhishek Gupta <abhi.bansal21@gmail.com>\r\n",
        "|   Date:   Tue Feb 18 10:53:31 2014 +0530\r\n",
        "|   \r\n",
        "|       The number to be guessed is now random.\r\n",
        "|  \r\n",
        "* commit c6db87633eb9bc527d4172489bfe750f6e94dee9 (tag: v1.0, main/master, master)\r\n",
        "| Author: Abhishek Gupta <abhi.bansal21@gmail.com>\r\n",
        "| Date:   Mon Feb 17 17:39:31 2014 +0530\r\n",
        "| \r\n",
        "|     Made a working game.\r\n",
        "|  \r\n",
        "* commit 5558817d194fe165fe0c37e624e3996bcc5052d8\r\n",
        "| Author: Abhishek Gupta <abhi.bansal21@gmail.com>\r\n",
        "| Date:   Mon Feb 17 17:26:53 2014 +0530\r\n",
        "| \r\n",
        "|     Added .gitignore\r\n",
        "|  \r\n",
        "* commit 0c60086b6b33639a5349cfc168719dba9f2e8260\r\n",
        "  Author: Abhishek Gupta <abhi.bansal21@gmail.com>\r\n",
        "  Date:   Mon Feb 17 17:22:21 2014 +0530\r\n",
        "  \r\n",
        "      Added the main game file.\r\n",
        "    \r\n",
        "*   commit 62b6089bb64909103fd2ca648bb54486cb13206d (origin/dev)\r\n",
        "|\\  Merge: 21244cd 566cb5a\r\n",
        "| | Author: Aditya Basu <ab.aditya.basu@gmail.com>\r\n",
        "| | Date:   Tue Feb 18 17:58:59 2014 +0530\r\n",
        "| | \r\n",
        "| |     Merge pull request #3 from knoxxs/dev\r\n",
        "| |     \r\n",
        "| |     Solved Issue #2: Textual Input @ Console\r\n",
        "| |   \r\n",
        "| * commit 566cb5a934d63268e437393f7cc3174f4b610e26\r\n",
        "|/  Author: Abhishek Gupta <abhi.bansal21@gmail.com>\r\n",
        "|   Date:   Tue Feb 18 17:49:35 2014 +0530\r\n",
        "|   \r\n",
        "|       Solved Issue #2: Textual Input @ Console\r\n",
        "|  \r\n",
        "* commit 21244cd071e58b2799e21ac1bfa309b70b7fd918\r\n",
        "| Author: Aditya Basu <ab.adtya.basu@gmail.com>\r\n",
        "| Date:   Sat Feb 15 15:29:37 2014 +0530\r\n",
        "| \r\n",
        "|     Solved Issue #1: The random number is now an integer.\r\n",
        "|  \r\n",
        "* commit a828076838f9a4f2d5791d7ba6ab81a40068a951\r\n",
        "| Author: Abhishek Gupta (knoxxs) <knoxxs@email.com>\r\n",
        "| Date:   Mon Feb 10 19:51:09 2014 +0530\r\n",
        "| \r\n",
        "|     Add play again feature\r\n",
        "|    \r\n",
        "*   commit fee581ff064627bb9cda326ba1bf13dda96f1da8\r\n",
        "|\\  Merge: 4c161b4 5e00396\r\n",
        "| | Author: Aditya Basu <ab.adtya.basu@gmail.com>\r\n",
        "| | Date:   Thu Jan 30 20:27:32 2014 +0530\r\n",
        "| | \r\n",
        "| |     Merged feature-instructions into dev.\r\n",
        "| |   \r\n",
        "| * commit 5e00396576ea76fb38bb0ac954525c091e0d6c87\r\n",
        "| | Author: Aditya Basu <ab.adtya.basu@gmail.com>\r\n",
        "| | Date:   Thu Jan 30 20:00:30 2014 +0530\r\n",
        "| | \r\n",
        "| |     Added instructions on how to play the game.\r\n",
        "| |     \r\n",
        "* |   commit 4c161b4daca43cc9e9bb84b5dee0bf23d53a40a5\r\n",
        "|\\ \\  Merge: bea068e 046fc6c\r\n",
        "| | | Author: Aditya Basu <ab.adtya.basu@gmail.com>\r\n",
        "| | | Date:   Thu Jan 30 19:45:17 2014 +0530\r\n",
        "| | | \r\n",
        "| | |     Merging feature-pretty_interface into dev\r\n",
        "| | |    \r\n",
        "| * | commit 046fc6ccfae5263971de0a9581510990f221c766\r\n",
        "| |/  Author: Aditya Basu <ab.adtya.basu@gmail.com>\r\n",
        "| |   Date:   Tue Jan 28 20:39:11 2014 +0530\r\n",
        "| |   \r\n",
        "| |       Improved the user interface.\r\n",
        "| |   \r\n",
        "* | commit bea068e9f5a52c62f23efd12db0e283e7f6def18\r\n",
        "|/  Author: Aditya Basu <ab.adtya.basu@gmail.com>\r\n",
        "|   Date:   Tue Jan 28 21:07:01 2014 +0530\r\n",
        "|   \r\n",
        "|       The number to be guessed is now random.\r\n",
        "|  \r\n",
        "* commit 8398393a7b5fea58ee9e6f8b455aa6e3923edb3a (origin/master)\r\n",
        "| Author: Aditya Basu <ab.adtya.basu@gmail.com>\r\n",
        "| Date:   Tue Jan 28 20:01:39 2014 +0530\r\n",
        "| \r\n",
        "|     Made a working game.\r\n",
        "|  \r\n",
        "* commit 1df665d14b50b54f247e55704c230dae3d773775\r\n",
        "| Author: Aditya Basu <ab.adtya.basu@gmail.com>\r\n",
        "| Date:   Tue Jan 28 19:21:09 2014 +0530\r\n",
        "| \r\n",
        "|     Added .gitignore\r\n",
        "|  \r\n",
        "* commit 7af15f29b3fc7fe0e535d6ec1a3f44381427591d\r\n",
        "  Author: Aditya Basu <ab.adtya.basu@gmail.com>\r\n",
        "  Date:   Tue Jan 28 18:35:13 2014 +0530\r\n",
        "  \r\n",
        "      Added the main game file.\r\n"
       ]
      }
     ],
     "prompt_number": 68
    },
    {
     "cell_type": "markdown",
     "metadata": {},
     "source": [
      "# Contributing to Open Source Development - The Old Way\n",
      "\n",
      "In the past when git hub and any other such service/tool was not there, what people would be using?\n",
      "\n",
      "There are two options:\n",
      "1. To make your on local repository available online (i.e. making your system a server) and tell the owner of the original repo to pull the changes.This approach should be clear to you all.\n",
      "2. Sending patch to the owner of the original repo via email or uploading it on issue tracker (or any other such system) system.\n",
      "\n",
      "We will be showing you how to do the things in the patch way. "
     ]
    },
    {
     "cell_type": "markdown",
     "metadata": {},
     "source": [
      "## Adding Feature5: Validating Exit Input\n",
      "\n",
      "Right now after the completion of the game we asks the user whether s/he want to play again or not. We are not validating the user input. Also there should be a default choice.\n",
      "\n",
      "Suppose there is a user, named oldUser, who want to use patch method."
     ]
    },
    {
     "cell_type": "markdown",
     "metadata": {},
     "source": [
      "### Creating Issue\n",
      "\n",
      "<figure style=\"text-align:center;\">\n",
      "    <img style=\"margin: 20px;-webkit-box-shadow: 0 0 15px 2px #333;-moz-box-shadow: 0 0 15px 2px #333;box-shadow: 0 0 15px 2px #333;\" src=\"http://farm4.staticflickr.com/3677/12785719445_afca6f525b_b.jpg\">\n",
      "    <figcaption style=\"font-variant: small-caps; font-family: Arial; font-weight: bold; color: #333;\">Issue Text</figcaption>\n",
      "</figure>\n",
      "\n",
      "<figure style=\"text-align:center;\">\n",
      "    <img style=\"margin: 20px;-webkit-box-shadow: 0 0 15px 2px #333;-moz-box-shadow: 0 0 15px 2px #333;box-shadow: 0 0 15px 2px #333;\" src=\"http://farm8.staticflickr.com/7301/12786156914_dc5c0018df_b.jpg\">\n",
      "    <figcaption style=\"font-variant: small-caps; font-family: Arial; font-weight: bold; color: #333;\">Posted Issue</figcaption>\n",
      "</figure>"
     ]
    },
    {
     "cell_type": "markdown",
     "metadata": {},
     "source": [
      "### Clonning the Repo"
     ]
    },
    {
     "cell_type": "code",
     "collapsed": false,
     "input": [
      "cd ../"
     ],
     "language": "python",
     "metadata": {},
     "outputs": [
      {
       "output_type": "stream",
       "stream": "stdout",
       "text": [
        "/home/me/Projects/numGame\n"
       ]
      }
     ],
     "prompt_number": 77
    },
    {
     "cell_type": "code",
     "collapsed": false,
     "input": [
      "mkdir src_oldUser"
     ],
     "language": "python",
     "metadata": {},
     "outputs": [],
     "prompt_number": 78
    },
    {
     "cell_type": "code",
     "collapsed": false,
     "input": [
      "cd src_oldUser/"
     ],
     "language": "python",
     "metadata": {},
     "outputs": [
      {
       "output_type": "stream",
       "stream": "stdout",
       "text": [
        "/home/me/Projects/numGame/src_oldUser\n"
       ]
      }
     ],
     "prompt_number": 79
    },
    {
     "cell_type": "code",
     "collapsed": false,
     "input": [
      "! git clone https://github.com/mitthu/num_game.git"
     ],
     "language": "python",
     "metadata": {},
     "outputs": [
      {
       "output_type": "stream",
       "stream": "stdout",
       "text": [
        "Cloning into 'num_game'...\r\n"
       ]
      },
      {
       "output_type": "stream",
       "stream": "stdout",
       "text": [
        "remote: Reusing existing pack: 34, done.\u001b[K\r\n"
       ]
      },
      {
       "output_type": "stream",
       "stream": "stdout",
       "text": [
        "remote: Total 34 (delta 0), reused 0 (delta 0)\u001b[K\r\n",
        "Unpacking objects:   2% (1/34)   \r",
        "Unpacking objects:   5% (2/34)   \r",
        "Unpacking objects:   8% (3/34)   \r",
        "Unpacking objects:  11% (4/34)   \r",
        "Unpacking objects:  14% (5/34)   \r",
        "Unpacking objects:  17% (6/34)   \r",
        "Unpacking objects:  20% (7/34)   \r",
        "Unpacking objects:  23% (8/34)   \r",
        "Unpacking objects:  26% (9/34)   \r",
        "Unpacking objects:  29% (10/34)   \r",
        "Unpacking objects:  32% (11/34)   \r",
        "Unpacking objects:  35% (12/34)   \r",
        "Unpacking objects:  38% (13/34)   \r",
        "Unpacking objects:  41% (14/34)   \r",
        "Unpacking objects:  44% (15/34)   \r",
        "Unpacking objects:  47% (16/34)   \r",
        "Unpacking objects:  50% (17/34)   \r",
        "Unpacking objects:  52% (18/34)   \r",
        "Unpacking objects:  55% (19/34)   \r",
        "Unpacking objects:  58% (20/34)   \r",
        "Unpacking objects:  61% (21/34)   \r",
        "Unpacking objects:  64% (22/34)   \r",
        "Unpacking objects:  67% (23/34)   \r",
        "Unpacking objects:  70% (24/34)   \r",
        "Unpacking objects:  73% (25/34)   \r",
        "Unpacking objects:  76% (26/34)   \r",
        "Unpacking objects:  79% (27/34)   \r",
        "Unpacking objects:  82% (28/34)   \r",
        "Unpacking objects:  85% (29/34)   \r",
        "Unpacking objects:  88% (30/34)   \r",
        "Unpacking objects:  91% (31/34)   \r",
        "Unpacking objects:  94% (32/34)   \r",
        "Unpacking objects:  97% (33/34)   \r",
        "Unpacking objects: 100% (34/34)   \r",
        "Unpacking objects: 100% (34/34), done.\r\n"
       ]
      }
     ],
     "prompt_number": 80
    },
    {
     "cell_type": "code",
     "collapsed": false,
     "input": [
      "cd num_game/"
     ],
     "language": "python",
     "metadata": {},
     "outputs": [
      {
       "output_type": "stream",
       "stream": "stdout",
       "text": [
        "/home/me/Projects/numGame/src_oldUser/num_game\n"
       ]
      }
     ],
     "prompt_number": 81
    },
    {
     "cell_type": "code",
     "collapsed": false,
     "input": [
      "! git log --oneline --decorate --graph --all"
     ],
     "language": "python",
     "metadata": {},
     "outputs": [
      {
       "output_type": "stream",
       "stream": "stdout",
       "text": [
        "*   62b6089 (origin/dev) Merge pull request #3 from knoxxs/dev\r\n",
        "|\\  \r\n",
        "| * 566cb5a Solved Issue #2: Textual Input @ Console\r\n",
        "|/  \r\n",
        "* 21244cd Solved Issue #1: The random number is now an integer.\r\n",
        "* a828076 Add play again feature\r\n",
        "*   fee581f Merged feature-instructions into dev.\r\n",
        "|\\  \r\n",
        "| * 5e00396 Added instructions on how to play the game.\r\n",
        "* |   4c161b4 Merging feature-pretty_interface into dev\r\n",
        "|\\ \\  \r\n",
        "| * | 046fc6c Improved the user interface.\r\n",
        "| |/  \r\n",
        "* | bea068e The number to be guessed is now random.\r\n",
        "|/  \r\n",
        "* 8398393 (HEAD, tag: v1.0, origin/master, origin/HEAD, master) Made a working game.\r\n",
        "* 1df665d Added .gitignore\r\n",
        "* 7af15f2 Added the main game file.\r\n"
       ]
      }
     ],
     "prompt_number": 82
    },
    {
     "cell_type": "markdown",
     "metadata": {},
     "source": [
      "### Adding the Feature:"
     ]
    },
    {
     "cell_type": "code",
     "collapsed": false,
     "input": [
      "! git checkout dev"
     ],
     "language": "python",
     "metadata": {},
     "outputs": [
      {
       "output_type": "stream",
       "stream": "stdout",
       "text": [
        "Branch dev set up to track remote branch dev from origin.\r\n"
       ]
      },
      {
       "output_type": "stream",
       "stream": "stdout",
       "text": [
        "Switched to a new branch 'dev'\r\n"
       ]
      }
     ],
     "prompt_number": 83
    },
    {
     "cell_type": "markdown",
     "metadata": {},
     "source": [
      "Following code add the feature5.\n",
      "\n",
      "```python\n",
      "#!/usr/bin/python\n",
      "import os\n",
      "import random\n",
      "\n",
      "def main():\n",
      "    print \"Welcome to guess the number game\\n===========================\"\n",
      "    print \"\"\"\n",
      "\tInstructions:\n",
      "\t------------\n",
      "\t1) Guess a number between 0 to 100.\n",
      "\t2) The game tells you how close you are to the guess.\n",
      "\t3) It would also tell you whether you have guess higher\n",
      "\t   or lower than the previous guess.\n",
      "\t4) Continue until you guess it right!\n",
      "\tAnd you win... :-) Kudos!\n",
      "\t\"\"\"\n",
      "    \n",
      "    play_again = 'y'\n",
      "    while play_again == 'y' or play_again == 'yes':\n",
      "        num = random.randint(0, 100)\n",
      "        guess = \"\"\n",
      "\n",
      "        while guess != num:\n",
      "            while True:\n",
      "                try:\n",
      "                    guess = int(raw_input(\"Take a guess: \"))\n",
      "                    break\n",
      "                except Exception, e:\n",
      "                    print \"Please enter an integer.\"\n",
      "                \n",
      "            if guess < num:\n",
      "                print \"Guess higher next time\\n\"\n",
      "            elif guess > num:\n",
      "                print \"Guess lower next time\\n\"\n",
      "        print \"Voila! You got it!\\nNow you know the deep secrets of life, universe and everything...\\n\"\n",
      "    \n",
      "        while True:\n",
      "            play_again = raw_input(\"Wanna play again (Yes/No): \")\n",
      "            play_again = play_again.lower()\n",
      "            if play_again == 'n' or play_again == 'no':\n",
      "                print \"Bye...\"\n",
      "                return\n",
      "            elif play_again == 'y' or play_again == 'yes':\n",
      "                break\n",
      "            elif play_again == '':\n",
      "                play_again = 'y'    #the default choice\n",
      "                break\n",
      "            else:\n",
      "                print \"I didn't understood what the hell you just entered. Read Carefully!\"\n",
      "main()\n",
      "```"
     ]
    },
    {
     "cell_type": "code",
     "collapsed": false,
     "input": [
      "! git diff"
     ],
     "language": "python",
     "metadata": {},
     "outputs": [
      {
       "output_type": "stream",
       "stream": "stdout",
       "text": [
        "diff --git a/game.py b/game.py\r\n",
        "index 6becbbc..e598c84 100755\r\n",
        "--- a/game.py\r\n",
        "+++ b/game.py\r\n",
        "@@ -16,7 +16,7 @@ def main():\r\n",
        " \t\"\"\"\r\n",
        "     \r\n",
        "     play_again = 'y'\r\n",
        "-    while play_again == 'y':\r\n",
        "+    while play_again == 'y' or play_again == 'yes':\r\n",
        "         num = random.randint(0, 100)\r\n",
        "         guess = \"\"\r\n",
        " \r\n",
        "@@ -34,8 +34,17 @@ def main():\r\n",
        "                 print \"Guess lower next time\\n\"\r\n",
        "         print \"Voila! You got it!\\nNow you know the deep secrets of life, universe and everything...\\n\"\r\n",
        "     \r\n",
        "-        play_again = raw_input(\"Wanna play again (y/n): \")\r\n",
        "-        if play_again == 'n':\r\n",
        "-            print \"Bye...\"\r\n",
        "-            break\r\n",
        "+        while True:\r\n",
        "+            play_again = raw_input(\"Wanna play again (Yes/No): \")\r\n",
        "+            play_again = play_again.lower()\r\n",
        "+            if play_again == 'n' or play_again == 'no':\r\n",
        "+                print \"Bye...\"\r\n",
        "+                return\r\n",
        "+            elif play_again == 'y' or play_again == 'yes':\r\n",
        "+                break\r\n",
        "+            elif play_again == '':\r\n",
        "+                play_again = 'y'    #the default choice\r\n",
        "+                break\r\n",
        "+            else:\r\n",
        "+                print \"I didn't understood what the hell you just entered. Read Carefully!\"\r\n",
        " main()\r\n"
       ]
      }
     ],
     "prompt_number": 84
    },
    {
     "cell_type": "code",
     "collapsed": false,
     "input": [
      "! git add game.py && git commit -m \"Solved Issue #4: Default for exit [Y/n]\""
     ],
     "language": "python",
     "metadata": {},
     "outputs": [
      {
       "output_type": "stream",
       "stream": "stdout",
       "text": [
        "[dev f2b109a] Solved Issue #4: Default for exit [Y/n]\r\n",
        " 1 file changed, 14 insertions(+), 5 deletions(-)\r\n"
       ]
      }
     ],
     "prompt_number": 85
    },
    {
     "cell_type": "markdown",
     "metadata": {},
     "source": [
      "### Creating the Patch\n",
      "\n",
      "What is a patch?\n",
      "\n",
      "Patch is just the output of the diff command.\n",
      "\n",
      "Is using diff output is suffiecient for any other user to incorporate the changes?\n",
      "\n",
      "The easiest way to create the patch is using the command `git diff HEAD~1 HEAD > patchFileName.patch`.\n",
      "\n",
      "But we will using a different command - `git format-patch`. What is the difference between two commands?"
     ]
    },
    {
     "cell_type": "code",
     "collapsed": false,
     "input": [
      "! git format-patch HEAD~1"
     ],
     "language": "python",
     "metadata": {},
     "outputs": [
      {
       "output_type": "stream",
       "stream": "stdout",
       "text": [
        "0001-Solved-Issue-4-Default-for-exit-Y-n.patch\r\n"
       ]
      }
     ],
     "prompt_number": 86
    },
    {
     "cell_type": "code",
     "collapsed": false,
     "input": [
      "ls"
     ],
     "language": "python",
     "metadata": {},
     "outputs": [
      {
       "output_type": "stream",
       "stream": "stdout",
       "text": [
        "0001-Solved-Issue-4-Default-for-exit-Y-n.patch  \u001b[0m\u001b[01;32mgame.py\u001b[0m*\r\n"
       ]
      }
     ],
     "prompt_number": 87
    },
    {
     "cell_type": "markdown",
     "metadata": {},
     "source": [
      "Let's print the patch file. We can do this by `cat` but we can also do this while creating the patch."
     ]
    },
    {
     "cell_type": "code",
     "collapsed": false,
     "input": [
      "! git format-patch HEAD~1 --stdout"
     ],
     "language": "python",
     "metadata": {},
     "outputs": [
      {
       "output_type": "stream",
       "stream": "stdout",
       "text": [
        "From f2b109a2912fccf67f7e406519c8617dabb5ad34 Mon Sep 17 00:00:00 2001\r\n",
        "From: Abhishek Gupta <abhi.bansal21@gmail.com>\r\n",
        "Date: Mon, 24 Feb 2014 03:01:36 +0530\r\n",
        "Subject: [PATCH] Solved Issue #4: Default for exit [Y/n]\r\n",
        "\r\n",
        "---\r\n",
        " game.py | 19 ++++++++++++++-----\r\n",
        " 1 file changed, 14 insertions(+), 5 deletions(-)\r\n",
        "\r\n",
        "diff --git a/game.py b/game.py\r\n",
        "index 6becbbc..e598c84 100755\r\n",
        "--- a/game.py\r\n",
        "+++ b/game.py\r\n",
        "@@ -16,7 +16,7 @@ def main():\r\n",
        " \t\"\"\"\r\n",
        "     \r\n",
        "     play_again = 'y'\r\n",
        "-    while play_again == 'y':\r\n",
        "+    while play_again == 'y' or play_again == 'yes':\r\n",
        "         num = random.randint(0, 100)\r\n",
        "         guess = \"\"\r\n",
        " \r\n",
        "@@ -34,8 +34,17 @@ def main():\r\n",
        "                 print \"Guess lower next time\\n\"\r\n",
        "         print \"Voila! You got it!\\nNow you know the deep secrets of life, universe and everything...\\n\"\r\n",
        "     \r\n",
        "-        play_again = raw_input(\"Wanna play again (y/n): \")\r\n",
        "-        if play_again == 'n':\r\n",
        "-            print \"Bye...\"\r\n",
        "-            break\r\n",
        "+        while True:\r\n",
        "+            play_again = raw_input(\"Wanna play again (Yes/No): \")\r\n",
        "+            play_again = play_again.lower()\r\n",
        "+            if play_again == 'n' or play_again == 'no':\r\n",
        "+                print \"Bye...\"\r\n",
        "+                return\r\n",
        "+            elif play_again == 'y' or play_again == 'yes':\r\n",
        "+                break\r\n",
        "+            elif play_again == '':\r\n",
        "+                play_again = 'y'    #the default choice\r\n",
        "+                break\r\n",
        "+            else:\r\n",
        "+                print \"I didn't understood what the hell you just entered. Read Carefully!\"\r\n",
        " main()\r\n",
        "-- \r\n",
        "1.8.1.2\r\n",
        "\r\n"
       ]
      }
     ],
     "prompt_number": 89
    },
    {
     "cell_type": "markdown",
     "metadata": {},
     "source": [
      "Is there any difference between the above and the outhput of the `git diff` command?"
     ]
    },
    {
     "cell_type": "markdown",
     "metadata": {},
     "source": [
      "Following commands are showing that the file created by the `git format-patch` is same as what is printed above."
     ]
    },
    {
     "cell_type": "code",
     "collapsed": false,
     "input": [
      "! bash -c \"diff <(cat 0001-Solved-Issue-4-Default-for-exit-Y-n.patch) <(git format-patch HEAD~1 --stdout)\""
     ],
     "language": "python",
     "metadata": {},
     "outputs": [],
     "prompt_number": 64
    },
    {
     "cell_type": "code",
     "collapsed": false,
     "input": [
      "! bash -c 'diff <(echo \"Hello, mitthu!\") <(echo \"Hello, knoxxs :-)\")'"
     ],
     "language": "python",
     "metadata": {},
     "outputs": [
      {
       "output_type": "stream",
       "stream": "stdout",
       "text": [
        "1c1\r\n",
        "< Hello, mitthu!\r\n",
        "---\r\n",
        "> Hello, knoxxs :-)\r\n"
       ]
      }
     ],
     "prompt_number": 65
    },
    {
     "cell_type": "markdown",
     "metadata": {},
     "source": [
      "### Sending the Patch\n",
      "\n",
      "Now we have to send this patch (i.e. the patch file) to the maintainer of the repo. You can send this using any email service. \n",
      "You can send the mail from terminal using git. Follwo [this guide](http://git-scm.com/docs/git-send-email \"Git SCM send-mail docs\") to send email from git directly.\n",
      "\n",
      "Some projects have a system (issue tracker system) where you can also upload the patch directly."
     ]
    },
    {
     "cell_type": "markdown",
     "metadata": {},
     "source": [
      "### Applying the Patch"
     ]
    },
    {
     "cell_type": "code",
     "collapsed": false,
     "input": [
      "cd ../../num_game/"
     ],
     "language": "python",
     "metadata": {},
     "outputs": [
      {
       "output_type": "stream",
       "stream": "stdout",
       "text": [
        "/home/me/Projects/numGame/num_game\n"
       ]
      }
     ],
     "prompt_number": 90
    },
    {
     "cell_type": "markdown",
     "metadata": {},
     "source": [
      "We have recieved the patch via email and placed it in the current directory."
     ]
    },
    {
     "cell_type": "code",
     "collapsed": false,
     "input": [
      "ls -1"
     ],
     "language": "python",
     "metadata": {},
     "outputs": [
      {
       "output_type": "stream",
       "stream": "stdout",
       "text": [
        "game.py\r\n"
       ]
      }
     ],
     "prompt_number": 91
    },
    {
     "cell_type": "code",
     "collapsed": false,
     "input": [
      "! git log --oneline --decorate --graph --all"
     ],
     "language": "python",
     "metadata": {},
     "outputs": [
      {
       "output_type": "stream",
       "stream": "stdout",
       "text": [
        "* 11c9714 (HEAD, dev) Solved Issue #1: The random number is now an integer.\r\n",
        "* 6dcee29 Add play again feature\r\n",
        "*   87f6962 Merged feature-instructions into dev.\r\n",
        "|\\  \r\n",
        "| * f2a0b32 (feature-instructions) Added instructions on how to play the game.\r\n",
        "* |   63716cf Merging feature-pretty_interface into dev\r\n",
        "|\\ \\  \r\n",
        "| * | 4da44b9 (feature-pretty_interface) Improved the user interface.\r\n",
        "| |/  \r\n",
        "* | f4eaf93 (feature-rand_num_guess) The number to be guessed is now random.\r\n",
        "|/  \r\n",
        "* c6db876 (tag: v1.0, main/master, master) Made a working game.\r\n",
        "* 5558817 Added .gitignore\r\n",
        "* 0c60086 Added the main game file.\r\n",
        "*   62b6089 (origin/dev) Merge pull request #3 from knoxxs/dev\r\n",
        "|\\  \r\n",
        "| * 566cb5a Solved Issue #2: Textual Input @ Console\r\n",
        "|/  \r\n",
        "* 21244cd Solved Issue #1: The random number is now an integer.\r\n",
        "* a828076 Add play again feature\r\n",
        "*   fee581f Merged feature-instructions into dev.\r\n",
        "|\\  \r\n",
        "| * 5e00396 Added instructions on how to play the game.\r\n",
        "* |   4c161b4 Merging feature-pretty_interface into dev\r\n",
        "|\\ \\  \r\n",
        "| * | 046fc6c Improved the user interface.\r\n",
        "| |/  \r\n",
        "* | bea068e The number to be guessed is now random.\r\n",
        "|/  \r\n",
        "* 8398393 (origin/master) Made a working game.\r\n",
        "* 1df665d Added .gitignore\r\n",
        "* 7af15f2 Added the main game file.\r\n"
       ]
      }
     ],
     "prompt_number": 92
    },
    {
     "cell_type": "code",
     "collapsed": false,
     "input": [
      "! git status"
     ],
     "language": "python",
     "metadata": {},
     "outputs": [
      {
       "output_type": "stream",
       "stream": "stdout",
       "text": [
        "# On branch dev\r\n",
        "nothing to commit, working directory clean\r\n"
       ]
      }
     ],
     "prompt_number": 93
    },
    {
     "cell_type": "markdown",
     "metadata": {},
     "source": [
      "We will be using `git apply` command to apply the patch. But before applying the patch first checkt the stats (about the chamges this patch would make) and if any error would be gnerated while applying this patch. "
     ]
    },
    {
     "cell_type": "code",
     "collapsed": false,
     "input": [
      "! git apply --stat 0001-Solved-Issue-4-Default-for-exit-Y-n.patch"
     ],
     "language": "python",
     "metadata": {},
     "outputs": [
      {
       "output_type": "stream",
       "stream": "stdout",
       "text": [
        " game.py |   16 +++++++++++-----\r\n",
        " 1 file changed, 11 insertions(+), 5 deletions(-)\r\n"
       ]
      }
     ],
     "prompt_number": 84
    },
    {
     "cell_type": "code",
     "collapsed": false,
     "input": [
      "! git apply --check 0001-Solved-Issue-4-Default-for-exit-Y-n.patch"
     ],
     "language": "python",
     "metadata": {},
     "outputs": [],
     "prompt_number": 85
    },
    {
     "cell_type": "code",
     "collapsed": false,
     "input": [
      "! git apply 0001-Solved-Issue-4-Default-for-exit-Y-n.patch"
     ],
     "language": "python",
     "metadata": {},
     "outputs": [],
     "prompt_number": 86
    },
    {
     "cell_type": "code",
     "collapsed": false,
     "input": [
      "! git status"
     ],
     "language": "python",
     "metadata": {},
     "outputs": [
      {
       "output_type": "stream",
       "stream": "stdout",
       "text": [
        "# On branch dev\r\n",
        "nothing to commit, working directory clean\r\n"
       ]
      }
     ],
     "prompt_number": 94
    },
    {
     "cell_type": "code",
     "collapsed": false,
     "input": [
      "! git diff"
     ],
     "language": "python",
     "metadata": {},
     "outputs": [],
     "prompt_number": 95
    },
    {
     "cell_type": "markdown",
     "metadata": {},
     "source": [
      "Now we have to add the changes and commit it. Instead of doing this there is a better command which will do this for us.\n",
      "\n",
      "Let's first drop the changes and get the last commited version of `game.py`."
     ]
    },
    {
     "cell_type": "code",
     "collapsed": false,
     "input": [
      "! git checkout game.py"
     ],
     "language": "python",
     "metadata": {},
     "outputs": [],
     "prompt_number": 89
    },
    {
     "cell_type": "code",
     "collapsed": false,
     "input": [
      "! git status"
     ],
     "language": "python",
     "metadata": {},
     "outputs": [
      {
       "output_type": "stream",
       "stream": "stdout",
       "text": [
        "# On branch dev\r\n",
        "# Untracked files:\r\n",
        "#   (use \"git add <file>...\" to include in what will be committed)\r\n",
        "#\r\n",
        "#\t0001-Solved-Issue-4-Default-for-exit-Y-n.patch\r\n",
        "nothing added to commit but untracked files present (use \"git add\" to track)\r\n"
       ]
      }
     ],
     "prompt_number": 90
    },
    {
     "cell_type": "code",
     "collapsed": false,
     "input": [
      "! git am --signoff <0001-Solved-Issue-4-Default-for-exit-Y-n.patch"
     ],
     "language": "python",
     "metadata": {},
     "outputs": [
      {
       "output_type": "stream",
       "stream": "stdout",
       "text": [
        "Applying: Solved Issue #4: Default for exit [Y/n]\r\n"
       ]
      }
     ],
     "prompt_number": 91
    },
    {
     "cell_type": "markdown",
     "metadata": {},
     "source": [
      "What is meaning of the argument `--signoff`?"
     ]
    },
    {
     "cell_type": "code",
     "collapsed": false,
     "input": [
      "!git status"
     ],
     "language": "python",
     "metadata": {},
     "outputs": [
      {
       "output_type": "stream",
       "stream": "stdout",
       "text": [
        "# On branch dev\r\n"
       ]
      },
      {
       "output_type": "stream",
       "stream": "stdout",
       "text": [
        "# Your branch is ahead of 'origin/dev' by 1 commit.\r\n",
        "#   (use \"git push\" to publish your local commits)\r\n",
        "#\r\n",
        "# Untracked files:\r\n",
        "#   (use \"git add <file>...\" to include in what will be committed)\r\n",
        "#\r\n",
        "#\t0001-Solved-Issue-4-Default-for-exit-Y-n.patch\r\n",
        "nothing added to commit but untracked files present (use \"git add\" to track)\r\n"
       ]
      }
     ],
     "prompt_number": 92
    },
    {
     "cell_type": "code",
     "collapsed": false,
     "input": [
      "! git log --oneline --decorate --graph --all"
     ],
     "language": "python",
     "metadata": {},
     "outputs": [
      {
       "output_type": "stream",
       "stream": "stdout",
       "text": [
        "* d0e2f8f (HEAD, dev) Solved Issue #4: Default for exit [Y/n]\r\n",
        "*   62b6089 (origin/dev) Merge pull request #3 from knoxxs/dev\r\n",
        "|\\  \r\n",
        "| * 566cb5a Solved Issue #2: Textual Input @ Console\r\n",
        "|/  \r\n",
        "* 21244cd Solved Issue #1: The random number is now an integer.\r\n",
        "* a828076 (main/dev) Add play again feature\r\n",
        "*   fee581f Merged feature-instructions into dev.\r\n",
        "|\\  \r\n",
        "| * 5e00396 (feature-instructions) Added instructions on how to play the game.\r\n",
        "* |   4c161b4 Merging feature-pretty_interface into dev\r\n",
        "|\\ \\  \r\n",
        "| * | 046fc6c (feature-pretty_interface) Improved the user interface.\r\n",
        "| |/  \r\n",
        "* | bea068e (feature-rand_num_guess) The number to be guessed is now random.\r\n",
        "|/  \r\n",
        "* 8398393 (tag: v1.0, origin/master, main/master, master) Made a working game.\r\n",
        "* 1df665d Added .gitignore\r\n",
        "* 7af15f2 Added the main game file.\r\n"
       ]
      }
     ],
     "prompt_number": 93
    },
    {
     "cell_type": "markdown",
     "metadata": {},
     "source": [
      "Let's see the author details for the last commit."
     ]
    },
    {
     "cell_type": "code",
     "collapsed": false,
     "input": [
      "! git log --pretty=fuller -1"
     ],
     "language": "python",
     "metadata": {},
     "outputs": [
      {
       "output_type": "stream",
       "stream": "stdout",
       "text": [
        "commit d0e2f8f44d93fd87c8d53737816d0b1f6050d672\r\n",
        "Author:     RandomName random_surname <random_nick@email.com>\r\n",
        "AuthorDate: Tue Feb 18 19:50:03 2014 +0530\r\n",
        "Commit:     Aditya Basu <ab.adtya.basu@gmail.com>\r\n",
        "CommitDate: Tue Feb 18 20:32:50 2014 +0530\r\n",
        "\r\n",
        "    Solved Issue #4: Default for exit [Y/n]\r\n",
        "    \r\n",
        "    Signed-off-by: Aditya Basu <ab.adtya.basu@gmail.com>\r\n"
       ]
      }
     ],
     "prompt_number": 95
    },
    {
     "cell_type": "markdown",
     "metadata": {},
     "source": [
      "What is the meaning of `--pretty=fuller`?\n",
      "\n",
      "Is there is anything unexpected?"
     ]
    },
    {
     "cell_type": "markdown",
     "metadata": {},
     "source": [
      "# A Tip\n",
      "\n",
      "There are going to be many times when you feel make a mess in git and feel frustated. You will try to ask yourself some obvious to answer questions like:"
     ]
    },
    {
     "cell_type": "code",
     "collapsed": false,
     "input": [
      "! [ whereis my brain"
     ],
     "language": "python",
     "metadata": {},
     "outputs": [
      {
       "output_type": "stream",
       "stream": "stdout",
       "text": [
        "/bin/sh: 1: [: missing ]\r\n"
       ]
      }
     ],
     "prompt_number": 98
    },
    {
     "cell_type": "markdown",
     "metadata": {},
     "source": [
      "In such cases do remember that git is very logical. Just try to relax and solve. Also you can never loose things with git."
     ]
    },
    {
     "cell_type": "code",
     "collapsed": false,
     "input": [
      "! figlet -ct Bye."
     ],
     "language": "python",
     "metadata": {},
     "outputs": [
      {
       "output_type": "stream",
       "stream": "stdout",
       "text": [
        "                               ____               \r\n",
        "                              | __ ) _   _  ___   \r\n",
        "                              |  _ \\| | | |/ _ \\  \r\n",
        "                              | |_) | |_| |  __/_ \r\n",
        "                              |____/ \\__, |\\___(_)\r\n",
        "                                     |___/        \r\n"
       ]
      }
     ],
     "prompt_number": 104
    }
   ],
   "metadata": {}
  }
 ]
}